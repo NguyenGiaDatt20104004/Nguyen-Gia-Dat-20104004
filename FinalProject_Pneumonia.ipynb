{
  "nbformat": 4,
  "nbformat_minor": 0,
  "metadata": {
    "colab": {
      "provenance": []
    },
    "kernelspec": {
      "name": "python3",
      "display_name": "Python 3"
    },
    "language_info": {
      "name": "python"
    }
  },
  "cells": [
    {
      "cell_type": "code",
      "execution_count": null,
      "metadata": {
        "id": "RijcSCvjlDCR"
      },
      "outputs": [],
      "source": [
        "#Cài đặt thư viện\n",
        "import keras\n",
        "from keras.models import Sequential\n",
        "from glob import glob\n",
        "from keras.layers import Dense, Dropout, Flatten,Activation\n",
        "from keras.layers import Conv2D, MaxPooling2D, Conv3D, BatchNormalization\n",
        "from keras.preprocessing.image import ImageDataGenerator\n",
        "import matplotlib.pyplot as plt\n",
        "import seaborn as sns\n",
        "from tensorflow.keras.utils import load_img\n",
        "from tensorflow.keras.utils import img_to_array\n",
        "from tensorflow.keras.utils import array_to_img\n",
        "import numpy as np\n",
        "import matplotlib.pyplot as plt"
      ]
    },
    {
      "cell_type": "code",
      "source": [
        "#Kết nối driver\n",
        "from google.colab import drive\n",
        "drive.mount('/content/drive')"
      ],
      "metadata": {
        "colab": {
          "base_uri": "https://localhost:8080/"
        },
        "id": "O3saFze2lZ5y",
        "outputId": "c4d08fc0-480d-466f-dc34-3f657af863a9"
      },
      "execution_count": null,
      "outputs": [
        {
          "output_type": "stream",
          "name": "stdout",
          "text": [
            "Mounted at /content/drive\n"
          ]
        }
      ]
    },
    {
      "cell_type": "code",
      "source": [
        "ketqua_dudoan = {\n",
        "                  0 : \"NORMAL\",\n",
        "                  1 : \"PNEUMONIA\"\n",
        "                }"
      ],
      "metadata": {
        "id": "GjMy4Qp9muim"
      },
      "execution_count": null,
      "outputs": []
    },
    {
      "cell_type": "code",
      "source": [
        "#Tải dữ liệu\n",
        "train_path = \"/content/drive/MyDrive/Final_project_AI/dataset_viemphoi/train\"\n",
        "test_path = \"/content/drive/MyDrive/Final_project_AI/dataset_viemphoi/test\""
      ],
      "metadata": {
        "id": "ykIGuGminOzB"
      },
      "execution_count": null,
      "outputs": []
    },
    {
      "cell_type": "code",
      "source": [
        "#Xây dựng Model\n",
        "train_datagen = ImageDataGenerator(rescale=1/255,\n",
        "                                    rotation_range=0.2,\n",
        "                                    horizontal_flip=True,\n",
        "                                    vertical_flip=True,\n",
        "                                    zoom_range=0.2)\n",
        "\n",
        "test_datagen = ImageDataGenerator(rescale=1./255)\n",
        "\n",
        "train_set = train_datagen.flow_from_directory(train_path,\n",
        "                                              target_size=(64, 64),\n",
        "                                              batch_size=10,\n",
        "                                              class_mode='categorical')\n",
        "\n",
        "test_set = test_datagen.flow_from_directory(test_path,\n",
        "                                            target_size=(64, 64),\n",
        "                                            batch_size=10,\n",
        "                                            class_mode='categorical')"
      ],
      "metadata": {
        "colab": {
          "base_uri": "https://localhost:8080/"
        },
        "id": "tcUe-gm4n_XV",
        "outputId": "894cfd8d-dbb0-49d8-b6bb-765abdf0066f"
      },
      "execution_count": null,
      "outputs": [
        {
          "output_type": "stream",
          "name": "stdout",
          "text": [
            "Found 5216 images belonging to 2 classes.\n",
            "Found 624 images belonging to 2 classes.\n"
          ]
        }
      ]
    },
    {
      "cell_type": "code",
      "source": [
        "model = Sequential()\n",
        "model.add(Conv2D(64, kernel_size=(3,3), activation='relu', input_shape=(64, 64, 3)))\n",
        "model.add(MaxPooling2D(pool_size=(2,2)))\n",
        "\n",
        "model.add(Conv2D(32, kernel_size=(3,3), activation='relu'))\n",
        "model.add(MaxPooling2D(pool_size=(2,2)))\n",
        "\n",
        "model.add(Conv2D(16, kernel_size=(3,3), activation='relu'))\n",
        "model.add(MaxPooling2D(pool_size=(2,2)))\n",
        "\n",
        "model.add(Conv2D(8, kernel_size=(3,3), activation='relu'))\n",
        "model.add(MaxPooling2D(pool_size=(2,2)))\n",
        "\n",
        "model.add(Flatten())\n",
        "model.add(Activation(\"relu\"))\n",
        "model.add(Dense(1024))\n",
        "model.add(Dropout(0.4))\n",
        "model.add(Dense(2))\n",
        "model.add(Activation(\"softmax\"))\n",
        "model.compile(optimizer='adam', loss='binary_crossentropy', metrics=['accuracy'])"
      ],
      "metadata": {
        "id": "eW_l7XpGofwb"
      },
      "execution_count": null,
      "outputs": []
    },
    {
      "cell_type": "code",
      "source": [
        "model.summary()"
      ],
      "metadata": {
        "colab": {
          "base_uri": "https://localhost:8080/"
        },
        "id": "tY_FZLjyoxpF",
        "outputId": "0bd282e2-c157-489f-d96b-7881fd758cab"
      },
      "execution_count": null,
      "outputs": [
        {
          "output_type": "stream",
          "name": "stdout",
          "text": [
            "Model: \"sequential\"\n",
            "_________________________________________________________________\n",
            " Layer (type)                Output Shape              Param #   \n",
            "=================================================================\n",
            " conv2d (Conv2D)             (None, 62, 62, 64)        1792      \n",
            "                                                                 \n",
            " max_pooling2d (MaxPooling2D  (None, 31, 31, 64)       0         \n",
            " )                                                               \n",
            "                                                                 \n",
            " conv2d_1 (Conv2D)           (None, 29, 29, 32)        18464     \n",
            "                                                                 \n",
            " max_pooling2d_1 (MaxPooling  (None, 14, 14, 32)       0         \n",
            " 2D)                                                             \n",
            "                                                                 \n",
            " conv2d_2 (Conv2D)           (None, 12, 12, 16)        4624      \n",
            "                                                                 \n",
            " max_pooling2d_2 (MaxPooling  (None, 6, 6, 16)         0         \n",
            " 2D)                                                             \n",
            "                                                                 \n",
            " conv2d_3 (Conv2D)           (None, 4, 4, 8)           1160      \n",
            "                                                                 \n",
            " max_pooling2d_3 (MaxPooling  (None, 2, 2, 8)          0         \n",
            " 2D)                                                             \n",
            "                                                                 \n",
            " flatten (Flatten)           (None, 32)                0         \n",
            "                                                                 \n",
            " activation (Activation)     (None, 32)                0         \n",
            "                                                                 \n",
            " dense (Dense)               (None, 1024)              33792     \n",
            "                                                                 \n",
            " dropout (Dropout)           (None, 1024)              0         \n",
            "                                                                 \n",
            " dense_1 (Dense)             (None, 2)                 2050      \n",
            "                                                                 \n",
            " activation_1 (Activation)   (None, 2)                 0         \n",
            "                                                                 \n",
            "=================================================================\n",
            "Total params: 61,882\n",
            "Trainable params: 61,882\n",
            "Non-trainable params: 0\n",
            "_________________________________________________________________\n"
          ]
        }
      ]
    },
    {
      "cell_type": "code",
      "source": [
        "history = model.fit_generator(train_set,\n",
        "                              steps_per_epoch=3800//10,\n",
        "                              epochs=100,\n",
        "                              validation_data=test_set,\n",
        "                              validation_steps=2200//10)"
      ],
      "metadata": {
        "colab": {
          "base_uri": "https://localhost:8080/"
        },
        "id": "eQUDno8Do0Rq",
        "outputId": "aaff7fc7-1631-4c95-b100-969972ac6a13"
      },
      "execution_count": null,
      "outputs": [
        {
          "output_type": "stream",
          "name": "stderr",
          "text": [
            "<ipython-input-14-05fa2aa015bd>:1: UserWarning: `Model.fit_generator` is deprecated and will be removed in a future version. Please use `Model.fit`, which supports generators.\n",
            "  history = model.fit_generator(train_set,\n"
          ]
        },
        {
          "output_type": "stream",
          "name": "stdout",
          "text": [
            "Epoch 1/100\n",
            "380/380 [==============================] - ETA: 0s - loss: 0.5777 - accuracy: 0.7461"
          ]
        },
        {
          "output_type": "stream",
          "name": "stderr",
          "text": [
            "WARNING:tensorflow:Your input ran out of data; interrupting training. Make sure that your dataset or generator can generate at least `steps_per_epoch * epochs` batches (in this case, 220 batches). You may need to use the repeat() function when building your dataset.\n"
          ]
        },
        {
          "output_type": "stream",
          "name": "stdout",
          "text": [
            "\b\b\b\b\b\b\b\b\b\b\b\b\b\b\b\b\b\b\b\b\b\b\b\b\b\b\b\b\b\b\b\b\b\b\b\b\b\b\b\b\b\b\b\b\b\b\b\b\b\b\b\b\b\b\b\b\b\b\b\b\b\b\b\b\b\b\b\b\b\b\b\b\b\b\b\b\b\b\b\b\b\b\b\b\r380/380 [==============================] - 562s 1s/step - loss: 0.5777 - accuracy: 0.7461 - val_loss: 0.7588 - val_accuracy: 0.6250\n",
            "Epoch 2/100\n",
            "380/380 [==============================] - 140s 368ms/step - loss: 0.3789 - accuracy: 0.8296\n",
            "Epoch 3/100\n",
            "380/380 [==============================] - 101s 267ms/step - loss: 0.3099 - accuracy: 0.8717\n",
            "Epoch 4/100\n",
            "380/380 [==============================] - 93s 246ms/step - loss: 0.2733 - accuracy: 0.8883\n",
            "Epoch 5/100\n",
            "380/380 [==============================] - 85s 223ms/step - loss: 0.2793 - accuracy: 0.8828\n",
            "Epoch 6/100\n",
            "380/380 [==============================] - 87s 230ms/step - loss: 0.2586 - accuracy: 0.8979\n",
            "Epoch 7/100\n",
            "380/380 [==============================] - 84s 221ms/step - loss: 0.2550 - accuracy: 0.8939\n",
            "Epoch 8/100\n",
            "380/380 [==============================] - 84s 222ms/step - loss: 0.2619 - accuracy: 0.8908\n",
            "Epoch 9/100\n",
            "380/380 [==============================] - 84s 220ms/step - loss: 0.2423 - accuracy: 0.9026\n",
            "Epoch 10/100\n",
            "380/380 [==============================] - 90s 234ms/step - loss: 0.2384 - accuracy: 0.9067\n",
            "Epoch 11/100\n",
            "380/380 [==============================] - 83s 218ms/step - loss: 0.2359 - accuracy: 0.8999\n",
            "Epoch 12/100\n",
            "380/380 [==============================] - 82s 215ms/step - loss: 0.2243 - accuracy: 0.9128\n",
            "Epoch 13/100\n",
            "380/380 [==============================] - 82s 215ms/step - loss: 0.2310 - accuracy: 0.9086\n",
            "Epoch 14/100\n",
            "380/380 [==============================] - 86s 227ms/step - loss: 0.2243 - accuracy: 0.9055\n",
            "Epoch 15/100\n",
            "380/380 [==============================] - 82s 217ms/step - loss: 0.2408 - accuracy: 0.9007\n",
            "Epoch 16/100\n",
            "380/380 [==============================] - 85s 223ms/step - loss: 0.2284 - accuracy: 0.9125\n",
            "Epoch 17/100\n",
            "380/380 [==============================] - 86s 226ms/step - loss: 0.2351 - accuracy: 0.9012\n",
            "Epoch 18/100\n",
            "380/380 [==============================] - 81s 214ms/step - loss: 0.2170 - accuracy: 0.9160\n",
            "Epoch 19/100\n",
            "380/380 [==============================] - 81s 214ms/step - loss: 0.1963 - accuracy: 0.9223\n",
            "Epoch 20/100\n",
            "380/380 [==============================] - 81s 213ms/step - loss: 0.2211 - accuracy: 0.9152\n",
            "Epoch 21/100\n",
            "380/380 [==============================] - 82s 216ms/step - loss: 0.2011 - accuracy: 0.9265\n",
            "Epoch 22/100\n",
            "380/380 [==============================] - 82s 215ms/step - loss: 0.2135 - accuracy: 0.9134\n",
            "Epoch 23/100\n",
            "380/380 [==============================] - 83s 218ms/step - loss: 0.2266 - accuracy: 0.9107\n",
            "Epoch 24/100\n",
            "380/380 [==============================] - 86s 226ms/step - loss: 0.2206 - accuracy: 0.9153\n",
            "Epoch 25/100\n",
            "380/380 [==============================] - 82s 217ms/step - loss: 0.1984 - accuracy: 0.9261\n",
            "Epoch 26/100\n",
            "380/380 [==============================] - 83s 217ms/step - loss: 0.2083 - accuracy: 0.9157\n",
            "Epoch 27/100\n",
            "380/380 [==============================] - 85s 223ms/step - loss: 0.1900 - accuracy: 0.9233\n",
            "Epoch 28/100\n",
            "380/380 [==============================] - 81s 213ms/step - loss: 0.1968 - accuracy: 0.9231\n",
            "Epoch 29/100\n",
            "380/380 [==============================] - 82s 215ms/step - loss: 0.1953 - accuracy: 0.9211\n",
            "Epoch 30/100\n",
            "380/380 [==============================] - 86s 226ms/step - loss: 0.1894 - accuracy: 0.9300\n",
            "Epoch 31/100\n",
            "380/380 [==============================] - 81s 214ms/step - loss: 0.1941 - accuracy: 0.9265\n",
            "Epoch 32/100\n",
            "380/380 [==============================] - 82s 215ms/step - loss: 0.1996 - accuracy: 0.9191\n",
            "Epoch 33/100\n",
            "380/380 [==============================] - 89s 234ms/step - loss: 0.1863 - accuracy: 0.9283\n",
            "Epoch 34/100\n",
            "380/380 [==============================] - 82s 215ms/step - loss: 0.2022 - accuracy: 0.9221\n",
            "Epoch 35/100\n",
            "380/380 [==============================] - 82s 215ms/step - loss: 0.1902 - accuracy: 0.9263\n",
            "Epoch 36/100\n",
            "380/380 [==============================] - 85s 222ms/step - loss: 0.1999 - accuracy: 0.9223\n",
            "Epoch 37/100\n",
            "380/380 [==============================] - 81s 213ms/step - loss: 0.1933 - accuracy: 0.9247\n",
            "Epoch 38/100\n",
            "380/380 [==============================] - 86s 225ms/step - loss: 0.1798 - accuracy: 0.9307\n",
            "Epoch 39/100\n",
            "380/380 [==============================] - 86s 225ms/step - loss: 0.1948 - accuracy: 0.9276\n",
            "Epoch 40/100\n",
            "380/380 [==============================] - 83s 218ms/step - loss: 0.1829 - accuracy: 0.9252\n",
            "Epoch 41/100\n",
            "380/380 [==============================] - 83s 217ms/step - loss: 0.1854 - accuracy: 0.9305\n",
            "Epoch 42/100\n",
            "380/380 [==============================] - 86s 226ms/step - loss: 0.1766 - accuracy: 0.9291\n",
            "Epoch 43/100\n",
            "380/380 [==============================] - 82s 216ms/step - loss: 0.2025 - accuracy: 0.9199\n",
            "Epoch 44/100\n",
            "380/380 [==============================] - 85s 223ms/step - loss: 0.1824 - accuracy: 0.9302\n",
            "Epoch 45/100\n",
            "380/380 [==============================] - 82s 216ms/step - loss: 0.1742 - accuracy: 0.9337\n",
            "Epoch 46/100\n",
            "380/380 [==============================] - 83s 219ms/step - loss: 0.1875 - accuracy: 0.9289\n",
            "Epoch 47/100\n",
            "380/380 [==============================] - 82s 215ms/step - loss: 0.1896 - accuracy: 0.9268\n",
            "Epoch 48/100\n",
            "380/380 [==============================] - 85s 225ms/step - loss: 0.1840 - accuracy: 0.9294\n",
            "Epoch 49/100\n",
            "380/380 [==============================] - 82s 217ms/step - loss: 0.1995 - accuracy: 0.9210\n",
            "Epoch 50/100\n",
            "380/380 [==============================] - 86s 226ms/step - loss: 0.1848 - accuracy: 0.9292\n",
            "Epoch 51/100\n",
            "380/380 [==============================] - 82s 214ms/step - loss: 0.1677 - accuracy: 0.9328\n",
            "Epoch 52/100\n",
            "380/380 [==============================] - 82s 216ms/step - loss: 0.1749 - accuracy: 0.9347\n",
            "Epoch 53/100\n",
            "380/380 [==============================] - 85s 223ms/step - loss: 0.1792 - accuracy: 0.9316\n",
            "Epoch 54/100\n",
            "380/380 [==============================] - 84s 221ms/step - loss: 0.1608 - accuracy: 0.9382\n",
            "Epoch 55/100\n",
            "380/380 [==============================] - 87s 229ms/step - loss: 0.1789 - accuracy: 0.9307\n",
            "Epoch 56/100\n",
            "380/380 [==============================] - 83s 217ms/step - loss: 0.1720 - accuracy: 0.9289\n",
            "Epoch 57/100\n",
            "380/380 [==============================] - 85s 222ms/step - loss: 0.1757 - accuracy: 0.9331\n",
            "Epoch 58/100\n",
            "380/380 [==============================] - 82s 216ms/step - loss: 0.1612 - accuracy: 0.9368\n",
            "Epoch 59/100\n",
            "380/380 [==============================] - 84s 220ms/step - loss: 0.1639 - accuracy: 0.9361\n",
            "Epoch 60/100\n",
            "380/380 [==============================] - 83s 218ms/step - loss: 0.1755 - accuracy: 0.9326\n",
            "Epoch 61/100\n",
            "380/380 [==============================] - 84s 221ms/step - loss: 0.1788 - accuracy: 0.9352\n",
            "Epoch 62/100\n",
            "380/380 [==============================] - 85s 224ms/step - loss: 0.1749 - accuracy: 0.9318\n",
            "Epoch 63/100\n",
            "380/380 [==============================] - 88s 231ms/step - loss: 0.1792 - accuracy: 0.9323\n",
            "Epoch 64/100\n",
            "380/380 [==============================] - 83s 218ms/step - loss: 0.1859 - accuracy: 0.9299\n",
            "Epoch 65/100\n",
            "380/380 [==============================] - 83s 219ms/step - loss: 0.1659 - accuracy: 0.9376\n",
            "Epoch 66/100\n",
            "380/380 [==============================] - 87s 229ms/step - loss: 0.1751 - accuracy: 0.9331\n",
            "Epoch 67/100\n",
            "380/380 [==============================] - 82s 217ms/step - loss: 0.1628 - accuracy: 0.9373\n",
            "Epoch 68/100\n",
            "380/380 [==============================] - 88s 231ms/step - loss: 0.1641 - accuracy: 0.9407\n",
            "Epoch 69/100\n",
            "380/380 [==============================] - 84s 220ms/step - loss: 0.1750 - accuracy: 0.9316\n",
            "Epoch 70/100\n",
            "380/380 [==============================] - 83s 219ms/step - loss: 0.1722 - accuracy: 0.9334\n",
            "Epoch 71/100\n",
            "380/380 [==============================] - 84s 221ms/step - loss: 0.1576 - accuracy: 0.9418\n",
            "Epoch 72/100\n",
            "380/380 [==============================] - 87s 229ms/step - loss: 0.1708 - accuracy: 0.9362\n",
            "Epoch 73/100\n",
            "380/380 [==============================] - 83s 217ms/step - loss: 0.1625 - accuracy: 0.9407\n",
            "Epoch 74/100\n",
            "380/380 [==============================] - 86s 227ms/step - loss: 0.1603 - accuracy: 0.9368\n",
            "Epoch 75/100\n",
            "380/380 [==============================] - 87s 228ms/step - loss: 0.1820 - accuracy: 0.9326\n",
            "Epoch 76/100\n",
            "380/380 [==============================] - 86s 226ms/step - loss: 0.1697 - accuracy: 0.9324\n",
            "Epoch 77/100\n",
            "380/380 [==============================] - 83s 218ms/step - loss: 0.1656 - accuracy: 0.9394\n",
            "Epoch 78/100\n",
            "380/380 [==============================] - 84s 220ms/step - loss: 0.1791 - accuracy: 0.9283\n",
            "Epoch 79/100\n",
            "380/380 [==============================] - 83s 217ms/step - loss: 0.1539 - accuracy: 0.9428\n",
            "Epoch 80/100\n",
            "380/380 [==============================] - 86s 225ms/step - loss: 0.1741 - accuracy: 0.9307\n",
            "Epoch 81/100\n",
            "380/380 [==============================] - 86s 227ms/step - loss: 0.1680 - accuracy: 0.9355\n",
            "Epoch 82/100\n",
            "380/380 [==============================] - 83s 218ms/step - loss: 0.1658 - accuracy: 0.9376\n",
            "Epoch 83/100\n",
            "380/380 [==============================] - 87s 229ms/step - loss: 0.1610 - accuracy: 0.9449\n",
            "Epoch 84/100\n",
            "380/380 [==============================] - 83s 219ms/step - loss: 0.1628 - accuracy: 0.9339\n",
            "Epoch 85/100\n",
            "380/380 [==============================] - 84s 221ms/step - loss: 0.1666 - accuracy: 0.9334\n",
            "Epoch 86/100\n",
            "380/380 [==============================] - 87s 229ms/step - loss: 0.1623 - accuracy: 0.9349\n",
            "Epoch 87/100\n",
            "380/380 [==============================] - 89s 233ms/step - loss: 0.1546 - accuracy: 0.9431\n",
            "Epoch 88/100\n",
            "380/380 [==============================] - 85s 223ms/step - loss: 0.1630 - accuracy: 0.9376\n",
            "Epoch 89/100\n",
            "380/380 [==============================] - 88s 231ms/step - loss: 0.1627 - accuracy: 0.9355\n",
            "Epoch 90/100\n",
            "380/380 [==============================] - 87s 230ms/step - loss: 0.1602 - accuracy: 0.9423\n",
            "Epoch 91/100\n",
            "380/380 [==============================] - 88s 231ms/step - loss: 0.1595 - accuracy: 0.9426\n",
            "Epoch 92/100\n",
            "380/380 [==============================] - 90s 238ms/step - loss: 0.1705 - accuracy: 0.9336\n",
            "Epoch 93/100\n",
            "380/380 [==============================] - 87s 228ms/step - loss: 0.1563 - accuracy: 0.9447\n",
            "Epoch 94/100\n",
            "380/380 [==============================] - 86s 227ms/step - loss: 0.1558 - accuracy: 0.9387\n",
            "Epoch 95/100\n",
            "380/380 [==============================] - 89s 233ms/step - loss: 0.1744 - accuracy: 0.9347\n",
            "Epoch 96/100\n",
            "380/380 [==============================] - 85s 224ms/step - loss: 0.1554 - accuracy: 0.9407\n",
            "Epoch 97/100\n",
            "380/380 [==============================] - 89s 234ms/step - loss: 0.1526 - accuracy: 0.9434\n",
            "Epoch 98/100\n",
            "380/380 [==============================] - 90s 236ms/step - loss: 0.1591 - accuracy: 0.9415\n",
            "Epoch 99/100\n",
            "380/380 [==============================] - 86s 226ms/step - loss: 0.1584 - accuracy: 0.9405\n",
            "Epoch 100/100\n",
            "380/380 [==============================] - 88s 232ms/step - loss: 0.1536 - accuracy: 0.9420\n"
          ]
        }
      ]
    },
    {
      "cell_type": "code",
      "source": [
        "model.save(\"Pneumonia.h5\")"
      ],
      "metadata": {
        "id": "1xDlijD-XHiM"
      },
      "execution_count": null,
      "outputs": []
    },
    {
      "cell_type": "code",
      "source": [
        "plt.plot(history.history[\"loss\"], label =\"Train loss\")\n",
        "plt.show()\n",
        "plt.plot(history.history[\"accuracy\"], label =\"Accuracy\")\n",
        "plt.show()\n",
        "     "
      ],
      "metadata": {
        "colab": {
          "base_uri": "https://localhost:8080/",
          "height": 513
        },
        "id": "nTz2RWZWXY03",
        "outputId": "62728175-d720-4aa3-8ceb-6389b4803f45"
      },
      "execution_count": null,
      "outputs": [
        {
          "output_type": "display_data",
          "data": {
            "text/plain": [
              "<Figure size 432x288 with 1 Axes>"
            ],
            "image/png": "[encoded data removed]"
          },
          "metadata": {
            "needs_background": "light"
          }
        },
        {
          "output_type": "display_data",
          "data": {
            "text/plain": [
              "<Figure size 432x288 with 1 Axes>"
            ],
            "image/png": "[encoded data removed]"
          },
          "metadata": {
            "needs_background": "light"
          }
        }
      ]
    },
    {
      "cell_type": "code",
      "source": [
        "img = load_img(\"/content/drive/MyDrive/Final_project_AI/dataset_viemphoi/val/NORMAL/NORMAL2-IM-1442-0001.jpeg\",target_size=(64,64))\n",
        "plt.imshow(img)\n",
        "img = img_to_array(img)\n",
        "img = img.reshape(1,64,64,3)  \n",
        "img = img.astype('float32')\n",
        "img /= 255\n",
        "prediction = model.predict(img).argmax()\n",
        "plt.title(\"Predicted Label for the image is {}\".format(ketqua_dudoan[prediction]))\n",
        "y_pred = model.predict(img)\n",
        "a = y_pred.max()\n",
        "a = a*100\n",
        "print(\"Accuracy: \",a, '%')\n"
      ],
      "metadata": {
        "colab": {
          "base_uri": "https://localhost:8080/",
          "height": 333
        },
        "id": "QoTb77bxXZMh",
        "outputId": "7f1e60ea-449e-47c6-9375-ab9ca9ba989e"
      },
      "execution_count": null,
      "outputs": [
        {
          "output_type": "stream",
          "name": "stdout",
          "text": [
            "1/1 [==============================] - 0s 23ms/step\n",
            "1/1 [==============================] - 0s 22ms/step\n",
            "Accuracy:  99.99866485595703 %\n"
          ]
        },
        {
          "output_type": "display_data",
          "data": {
            "text/plain": [
              "<Figure size 432x288 with 1 Axes>"
            ],
            "image/png": "[encoded data removed]"
          },
          "metadata": {
            "needs_background": "light"
          }
        }
      ]
    },
    {
      "cell_type": "code",
      "source": [
        "img = load_img(\"/content/drive/MyDrive/Final_project_AI/dataset_viemphoi/val/PNEUMONIA/person1946_bacteria_4874.jpeg\",target_size=(64,64))\n",
        "plt.imshow(img)\n",
        "img = img_to_array(img)\n",
        "img = img.reshape(1,64,64,3)  \n",
        "img = img.astype('float32')\n",
        "img /= 255\n",
        "prediction = model.predict(img).argmax()\n",
        "plt.title(\"Predicted Label for the image is {}\".format(ketqua_dudoan[prediction]))\n",
        "y_pred = model.predict(img)\n",
        "a = y_pred.max()\n",
        "a = a*100\n",
        "print(\"Accuracy: \",a, '%')"
      ],
      "metadata": {
        "colab": {
          "base_uri": "https://localhost:8080/",
          "height": 333
        },
        "id": "V5gpMLA3YbCv",
        "outputId": "47a34780-d463-45d6-ccda-053b92a142e1"
      },
      "execution_count": null,
      "outputs": [
        {
          "output_type": "stream",
          "name": "stdout",
          "text": [
            "1/1 [==============================] - 0s 23ms/step\n",
            "1/1 [==============================] - 0s 32ms/step\n",
            "Accuracy:  99.77207779884338 %\n"
          ]
        },
        {
          "output_type": "display_data",
          "data": {
            "text/plain": [
              "<Figure size 432x288 with 1 Axes>"
            ],
            "image/png": "[encoded data removed]"
          },
          "metadata": {
            "needs_background": "light"
          }
        }
      ]
    },
    {
      "cell_type": "code",
      "source": [],
      "metadata": {
        "id": "IZ69VrhKZLDp"
      },
      "execution_count": null,
      "outputs": []
    }
  ]
}