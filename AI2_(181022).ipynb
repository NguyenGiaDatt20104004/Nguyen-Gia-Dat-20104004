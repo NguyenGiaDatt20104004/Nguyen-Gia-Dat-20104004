{
  "nbformat": 4,
  "nbformat_minor": 0,
  "metadata": {
    "colab": {
      "provenance": [],
      "authorship_tag": "ABX9TyPqq4iKo0gKtgNgly7Mx/k5",
      "include_colab_link": true
    },
    "kernelspec": {
      "name": "python3",
      "display_name": "Python 3"
    },
    "language_info": {
      "name": "python"
    }
  },
  "cells": [
    {
      "cell_type": "markdown",
      "metadata": {
        "id": "view-in-github",
        "colab_type": "text"
      },
      "source": [
        "<a href=\"https://colab.research.google.com/github/NguyenGiaDatt20104004/Nguyen-Gia-Dat-20104004/blob/main/AI2_(181022).ipynb\" target=\"_parent\"><img src=\"https://colab.research.google.com/assets/colab-badge.svg\" alt=\"Open In Colab\"/></a>"
      ]
    },
    {
      "cell_type": "code",
      "execution_count": null,
      "metadata": {
        "colab": {
          "base_uri": "https://localhost:8080/"
        },
        "id": "bESp2BLsG0Z2",
        "outputId": "e3da5a1e-a07a-4378-f5c0-8388c5612807"
      },
      "outputs": [
        {
          "output_type": "stream",
          "name": "stdout",
          "text": [
            "Downloading data from https://storage.googleapis.com/tensorflow/tf-keras-datasets/train-labels-idx1-ubyte.gz\n",
            "29515/29515 [==============================] - 0s 0us/step\n",
            "Downloading data from https://storage.googleapis.com/tensorflow/tf-keras-datasets/train-images-idx3-ubyte.gz\n",
            "26421880/26421880 [==============================] - 0s 0us/step\n",
            "Downloading data from https://storage.googleapis.com/tensorflow/tf-keras-datasets/t10k-labels-idx1-ubyte.gz\n",
            "5148/5148 [==============================] - 0s 0us/step\n",
            "Downloading data from https://storage.googleapis.com/tensorflow/tf-keras-datasets/t10k-images-idx3-ubyte.gz\n",
            "4422102/4422102 [==============================] - 0s 0us/step\n"
          ]
        }
      ],
      "source": [
        "from keras.datasets import fashion_mnist\n",
        "(x_train, y_train), (x_test, y_test) = fashion_mnist.load_data()"
      ]
    },
    {
      "cell_type": "code",
      "source": [
        "x_train"
      ],
      "metadata": {
        "colab": {
          "base_uri": "https://localhost:8080/"
        },
        "id": "CtDvHkoFHC0O",
        "outputId": "e41247b1-52f4-42de-b55a-a63601c42456"
      },
      "execution_count": null,
      "outputs": [
        {
          "output_type": "execute_result",
          "data": {
            "text/plain": [
              "array([[[0, 0, 0, ..., 0, 0, 0],\n",
              "        [0, 0, 0, ..., 0, 0, 0],\n",
              "        [0, 0, 0, ..., 0, 0, 0],\n",
              "        ...,\n",
              "        [0, 0, 0, ..., 0, 0, 0],\n",
              "        [0, 0, 0, ..., 0, 0, 0],\n",
              "        [0, 0, 0, ..., 0, 0, 0]],\n",
              "\n",
              "       [[0, 0, 0, ..., 0, 0, 0],\n",
              "        [0, 0, 0, ..., 0, 0, 0],\n",
              "        [0, 0, 0, ..., 0, 0, 0],\n",
              "        ...,\n",
              "        [0, 0, 0, ..., 0, 0, 0],\n",
              "        [0, 0, 0, ..., 0, 0, 0],\n",
              "        [0, 0, 0, ..., 0, 0, 0]],\n",
              "\n",
              "       [[0, 0, 0, ..., 0, 0, 0],\n",
              "        [0, 0, 0, ..., 0, 0, 0],\n",
              "        [0, 0, 0, ..., 0, 0, 0],\n",
              "        ...,\n",
              "        [0, 0, 0, ..., 0, 0, 0],\n",
              "        [0, 0, 0, ..., 0, 0, 0],\n",
              "        [0, 0, 0, ..., 0, 0, 0]],\n",
              "\n",
              "       ...,\n",
              "\n",
              "       [[0, 0, 0, ..., 0, 0, 0],\n",
              "        [0, 0, 0, ..., 0, 0, 0],\n",
              "        [0, 0, 0, ..., 0, 0, 0],\n",
              "        ...,\n",
              "        [0, 0, 0, ..., 0, 0, 0],\n",
              "        [0, 0, 0, ..., 0, 0, 0],\n",
              "        [0, 0, 0, ..., 0, 0, 0]],\n",
              "\n",
              "       [[0, 0, 0, ..., 0, 0, 0],\n",
              "        [0, 0, 0, ..., 0, 0, 0],\n",
              "        [0, 0, 0, ..., 0, 0, 0],\n",
              "        ...,\n",
              "        [0, 0, 0, ..., 0, 0, 0],\n",
              "        [0, 0, 0, ..., 0, 0, 0],\n",
              "        [0, 0, 0, ..., 0, 0, 0]],\n",
              "\n",
              "       [[0, 0, 0, ..., 0, 0, 0],\n",
              "        [0, 0, 0, ..., 0, 0, 0],\n",
              "        [0, 0, 0, ..., 0, 0, 0],\n",
              "        ...,\n",
              "        [0, 0, 0, ..., 0, 0, 0],\n",
              "        [0, 0, 0, ..., 0, 0, 0],\n",
              "        [0, 0, 0, ..., 0, 0, 0]]], dtype=uint8)"
            ]
          },
          "metadata": {},
          "execution_count": 2
        }
      ]
    },
    {
      "cell_type": "code",
      "source": [
        "y_train.shape"
      ],
      "metadata": {
        "colab": {
          "base_uri": "https://localhost:8080/"
        },
        "id": "S7zHE9mKHYe7",
        "outputId": "8dc11648-3720-4712-b1b4-81dc41083850"
      },
      "execution_count": null,
      "outputs": [
        {
          "output_type": "execute_result",
          "data": {
            "text/plain": [
              "(60000,)"
            ]
          },
          "metadata": {},
          "execution_count": 6
        }
      ]
    },
    {
      "cell_type": "code",
      "source": [
        "x_test.shape"
      ],
      "metadata": {
        "colab": {
          "base_uri": "https://localhost:8080/"
        },
        "id": "3cnWp7MHHaLe",
        "outputId": "a032feab-fa92-4645-b8b4-d5314b1f265c"
      },
      "execution_count": null,
      "outputs": [
        {
          "output_type": "execute_result",
          "data": {
            "text/plain": [
              "(10000, 28, 28)"
            ]
          },
          "metadata": {},
          "execution_count": 7
        }
      ]
    },
    {
      "cell_type": "code",
      "source": [
        "y_test.shape"
      ],
      "metadata": {
        "colab": {
          "base_uri": "https://localhost:8080/"
        },
        "id": "k1xuzddaHbia",
        "outputId": "5f1caf41-926a-4cf3-a2ea-d679dfac44de"
      },
      "execution_count": null,
      "outputs": [
        {
          "output_type": "execute_result",
          "data": {
            "text/plain": [
              "(10000,)"
            ]
          },
          "metadata": {},
          "execution_count": 8
        }
      ]
    },
    {
      "cell_type": "code",
      "source": [
        "import matplotlib.pyplot as plt\n",
        "plt.imshow(x_train[1000])\n",
        "plt.show()\n",
        "print(x_train[1000])"
      ],
      "metadata": {
        "colab": {
          "base_uri": "https://localhost:8080/",
          "height": 1000
        },
        "id": "dAuh8avzHdPh",
        "outputId": "7117dc44-8a9b-45e6-b898-8520956e5478"
      },
      "execution_count": null,
      "outputs": [
        {
          "output_type": "display_data",
          "data": {
            "text/plain": [
              "<Figure size 432x288 with 1 Axes>"
            ],
            "image/png": "[encoded data removed]"
          },
          "metadata": {
            "needs_background": "light"
          }
        },
        {
          "output_type": "stream",
          "name": "stdout",
          "text": [
            "[[  0   0   0   0   0   0   0   0   0   0   0  97  84  97 110 108  87  97\n",
            "    0   0   0   0   0   0   0   0   0   0]\n",
            " [  0   0   0   0   0   0   0   0   0   0  19 255 199 183 142 161 200 213\n",
            "   32   0   0   0   0   0   0   0   0   0]\n",
            " [  0   0   0   0   0   0   0   0   0   0  72 174 173 158 131 132 176 176\n",
            "   70   0   0   0   0   0   0   0   0   0]\n",
            " [  0   0   0   0   0   0   0   0   0   0 142 180 163 120 180 126 139 168\n",
            "  122   0   0   0   0   0   0   0   0   0]\n",
            " [  0   0   0   0   0   0   0   0   0   0 156 180 162 171 170 183 163 169\n",
            "  144   0   0   0   0   0   0   0   0   0]\n",
            " [  0   0   0   0   0   0   0   0   0   0 159 177 163 174 166 173 170 163\n",
            "  148   0   0   0   0   0   0   0   0   0]\n",
            " [  0   0   0   0   0   0   0   0   0   0 160 182 160 168 175 167 157 168\n",
            "  139   0   0   0   0   0   0   0   0   0]\n",
            " [  0   0   0   0   0   0   0   0   0   0 143 185 161 171 184 176 160 175\n",
            "  131   0   0   0   0   0   0   0   0   0]\n",
            " [  0   0   0   0   0   0   0   0   0   0 143 188 155 172 182 180 161 182\n",
            "  127   0   0   0   0   0   0   0   0   0]\n",
            " [  0   0   0   0   0   0   0   0   0   0 127 170 168 175 211 191 163 184\n",
            "  113   0   0   0   0   0   0   0   0   0]\n",
            " [  0   0   0   0   0   0   0   0   0   0  78 132 175 177 129 203 161 187\n",
            "  102   0   0   0   0   0   0   0   0   0]\n",
            " [  0   0   0   0   0   0   0   0   0   0  91 166 163 190  63 203 159 189\n",
            "   94   0   0   0   0   0   0   0   0   0]\n",
            " [  0   0   0   0   0   0   0   0   0   0  98 126 166 192  65 198 167 193\n",
            "   84   0   0   0   0   0   0   0   0   0]\n",
            " [  0   0   0   0   0   0   0   0   0   0  90 127 170 198  61 200 174 198\n",
            "   71   0   0   0   0   0   0   0   0   0]\n",
            " [  0   0   0   0   0   0   0   0   0   0  93 141 151 207  55 196 171 196\n",
            "   58   0   0   0   0   0   0   0   0   0]\n",
            " [  0   0   0   0   0   0   0   0   0   0  88 137 136 210  54 198 173 199\n",
            "   46   0   0   0   0   0   0   0   0   0]\n",
            " [  0   0   0   0   0   0   0   0   0   0  72 125 131 214  55 199 176 200\n",
            "   38   0   0   0   0   0   0   0   0   0]\n",
            " [  0   0   0   0   0   0   0   0   0   0  56 146 126 210  56 200 175 200\n",
            "   37   0   0   0   0   0   0   0   0   0]\n",
            " [  0   0   0   0   0   0   0   0   0   0  40 237 171 195  64 199 174 203\n",
            "   36   0   0   0   0   0   0   0   0   0]\n",
            " [  0   0   0   0   0   0   0   0   0   0  23 190 168 192  70 196 171 203\n",
            "   30   0   0   0   0   0   0   0   0   0]\n",
            " [  0   0   0   0   0   0   0   0   0   0  15 188 171 196  70 198 173 202\n",
            "   21   0   0   0   0   0   0   0   0   0]\n",
            " [  0   0   0   0   0   0   0   0   0   0  11 187 172 197  71 199 174 203\n",
            "   15   0   0   0   0   0   0   0   0   0]\n",
            " [  0   0   0   0   0   0   0   0   0   0   1 183 175 198  73 195 174 205\n",
            "   13   0   0   0   0   0   0   0   0   0]\n",
            " [  0   0   0   0   0   0   0   0   0   0   0 186 177 200  78 191 175 171\n",
            "    8   0   0   0   0   0   0   0   0   0]\n",
            " [  0   0   0   0   0   0   0   0   0   0   0 181 177 198  78 189 176 166\n",
            "    4   0   0   0   0   0   0   0   0   0]\n",
            " [  0   0   0   0   0   0   0   0   0   0   0 178 182 182 107 184 175 193\n",
            "    0   0   0   0   0   0   0   0   0   0]\n",
            " [  0   0   0   0   0   0   0   0   0   0   0 173 200 206  84 196 196 133\n",
            "    0   0   0   0   0   0   0   0   0   0]\n",
            " [  0   0   0   0   0   0   0   0   0   0   0  68 207 182   0 175 195  34\n",
            "    0   0   0   0   0   0   0   0   0   0]]\n"
          ]
        }
      ]
    },
    {
      "cell_type": "code",
      "source": [
        "class_names = [\"T-shirt/Top\", \"Trousers\", \"Pullover\", \"Press\", \"coat\", \"Sandal\", \"Shirt\", \"Sneaker\", \"Bag\", \"Ankle boot\"]"
      ],
      "metadata": {
        "id": "F3hbZilZIX8f"
      },
      "execution_count": null,
      "outputs": []
    },
    {
      "cell_type": "code",
      "source": [
        "plt.imshow(x_train[1001])\n",
        "plt.show()\n",
        "print(class_names[y_train[1001]])"
      ],
      "metadata": {
        "colab": {
          "base_uri": "https://localhost:8080/",
          "height": 282
        },
        "id": "sbhf9K6uJjTN",
        "outputId": "df016578-4b17-4d4e-fa45-55db9c9db67f"
      },
      "execution_count": null,
      "outputs": [
        {
          "output_type": "display_data",
          "data": {
            "text/plain": [
              "<Figure size 432x288 with 1 Axes>"
            ],
            "image/png": "[encoded data removed]"
          },
          "metadata": {
            "needs_background": "light"
          }
        },
        {
          "output_type": "stream",
          "name": "stdout",
          "text": [
            "Pullover\n"
          ]
        }
      ]
    },
    {
      "cell_type": "code",
      "source": [
        "from keras import models\n",
        "from keras import layers\n",
        "\n",
        "model = models.Sequential()\n",
        "model.add(layers.Dense(512, activation = \"relu\", input_shape = (28*28,)))\n",
        "#relu: khi giá trị dương sẽ = chính nó, khi giá trị âm thì bằng 0\n",
        "#input_shape: tín hiệu vào\n",
        "model.add(layers.Dense(10, activation= \"softmax\"))\n",
        "model.summary()\n",
        "model"
      ],
      "metadata": {
        "colab": {
          "base_uri": "https://localhost:8080/"
        },
        "id": "GNm3VVBnJkSN",
        "outputId": "1b2c13ff-4634-4fa6-ce9e-c8a1f4ba9f80"
      },
      "execution_count": null,
      "outputs": [
        {
          "output_type": "stream",
          "name": "stdout",
          "text": [
            "Model: \"sequential\"\n",
            "_________________________________________________________________\n",
            " Layer (type)                Output Shape              Param #   \n",
            "=================================================================\n",
            " dense (Dense)               (None, 512)               401920    \n",
            "                                                                 \n",
            " dense_1 (Dense)             (None, 10)                5130      \n",
            "                                                                 \n",
            "=================================================================\n",
            "Total params: 407,050\n",
            "Trainable params: 407,050\n",
            "Non-trainable params: 0\n",
            "_________________________________________________________________\n"
          ]
        },
        {
          "output_type": "execute_result",
          "data": {
            "text/plain": [
              "<keras.engine.sequential.Sequential at 0x7ffad47d9ed0>"
            ]
          },
          "metadata": {},
          "execution_count": 12
        }
      ]
    },
    {
      "cell_type": "code",
      "source": [
        "x_train = x_train.reshape((60000,28*28))\n",
        "#reshape: đổi kích thước\n",
        "x_train = x_train.astype(\"float32\")/255\n",
        "x_test = x_test.reshape((10000,28*28))\n",
        "x_test= x_test.astype(\"float32\")/255\n",
        "x_train.shape"
      ],
      "metadata": {
        "colab": {
          "base_uri": "https://localhost:8080/"
        },
        "id": "WLktXPb_LEca",
        "outputId": "01bc779b-5055-453f-9846-75c7503ae4ca"
      },
      "execution_count": null,
      "outputs": [
        {
          "output_type": "execute_result",
          "data": {
            "text/plain": [
              "(60000, 784)"
            ]
          },
          "metadata": {},
          "execution_count": 13
        }
      ]
    },
    {
      "cell_type": "code",
      "source": [
        "from keras.utils import to_categorical\n",
        "#from keras.utilsimport to_categorical\n",
        "y_train = to_categorical(y_train)\n",
        "y_test= to_categorical(y_test)\n",
        "y_train.shape"
      ],
      "metadata": {
        "colab": {
          "base_uri": "https://localhost:8080/"
        },
        "id": "mRBpH19iLgPw",
        "outputId": "e1e601d5-556c-47c2-d0cb-b91c49f10603"
      },
      "execution_count": null,
      "outputs": [
        {
          "output_type": "execute_result",
          "data": {
            "text/plain": [
              "(60000, 10)"
            ]
          },
          "metadata": {},
          "execution_count": 14
        }
      ]
    },
    {
      "cell_type": "code",
      "source": [
        "model.compile(optimizer=\"rmsprop\", loss = \"categorical_crossentropy\", metrics=[\"accuracy\"])\n",
        "model.fit(x_train, y_train, epochs=100, batch_size=128)"
      ],
      "metadata": {
        "colab": {
          "base_uri": "https://localhost:8080/"
        },
        "id": "031WdydyLw-d",
        "outputId": "fe2a6a50-d562-4364-a003-f7d1a6a20b78"
      },
      "execution_count": null,
      "outputs": [
        {
          "output_type": "stream",
          "name": "stdout",
          "text": [
            "Epoch 1/100\n",
            "469/469 [==============================] - 6s 11ms/step - loss: 0.5631 - accuracy: 0.8022\n",
            "Epoch 2/100\n",
            "469/469 [==============================] - 5s 10ms/step - loss: 0.3811 - accuracy: 0.8610\n",
            "Epoch 3/100\n",
            "469/469 [==============================] - 5s 10ms/step - loss: 0.3371 - accuracy: 0.8767\n",
            "Epoch 4/100\n",
            "469/469 [==============================] - 5s 10ms/step - loss: 0.3119 - accuracy: 0.8860\n",
            "Epoch 5/100\n",
            "469/469 [==============================] - 5s 11ms/step - loss: 0.2917 - accuracy: 0.8933\n",
            "Epoch 6/100\n",
            "469/469 [==============================] - 5s 12ms/step - loss: 0.2758 - accuracy: 0.8978\n",
            "Epoch 7/100\n",
            "469/469 [==============================] - 5s 10ms/step - loss: 0.2643 - accuracy: 0.9026\n",
            "Epoch 8/100\n",
            "469/469 [==============================] - 5s 10ms/step - loss: 0.2534 - accuracy: 0.9064\n",
            "Epoch 9/100\n",
            "469/469 [==============================] - 6s 13ms/step - loss: 0.2430 - accuracy: 0.9105\n",
            "Epoch 10/100\n",
            "469/469 [==============================] - 5s 10ms/step - loss: 0.2340 - accuracy: 0.9136\n",
            "Epoch 11/100\n",
            "469/469 [==============================] - 5s 11ms/step - loss: 0.2280 - accuracy: 0.9151\n",
            "Epoch 12/100\n",
            "469/469 [==============================] - 5s 10ms/step - loss: 0.2179 - accuracy: 0.9185\n",
            "Epoch 13/100\n",
            "469/469 [==============================] - 6s 13ms/step - loss: 0.2106 - accuracy: 0.9222\n",
            "Epoch 14/100\n",
            "469/469 [==============================] - 5s 10ms/step - loss: 0.2024 - accuracy: 0.9260\n",
            "Epoch 15/100\n",
            "469/469 [==============================] - 5s 11ms/step - loss: 0.1998 - accuracy: 0.9265\n",
            "Epoch 16/100\n",
            "469/469 [==============================] - 5s 10ms/step - loss: 0.1948 - accuracy: 0.9264\n",
            "Epoch 17/100\n",
            "469/469 [==============================] - 5s 10ms/step - loss: 0.1870 - accuracy: 0.9308\n",
            "Epoch 18/100\n",
            "469/469 [==============================] - 5s 10ms/step - loss: 0.1836 - accuracy: 0.9325\n",
            "Epoch 19/100\n",
            "469/469 [==============================] - 5s 10ms/step - loss: 0.1764 - accuracy: 0.9348\n",
            "Epoch 20/100\n",
            "469/469 [==============================] - 5s 11ms/step - loss: 0.1726 - accuracy: 0.9372\n",
            "Epoch 21/100\n",
            "469/469 [==============================] - 5s 10ms/step - loss: 0.1674 - accuracy: 0.9384\n",
            "Epoch 22/100\n",
            "469/469 [==============================] - 5s 10ms/step - loss: 0.1636 - accuracy: 0.9402\n",
            "Epoch 23/100\n",
            "469/469 [==============================] - 5s 10ms/step - loss: 0.1595 - accuracy: 0.9410\n",
            "Epoch 24/100\n",
            "469/469 [==============================] - 5s 11ms/step - loss: 0.1554 - accuracy: 0.9422\n",
            "Epoch 25/100\n",
            "469/469 [==============================] - 5s 10ms/step - loss: 0.1520 - accuracy: 0.9446\n",
            "Epoch 26/100\n",
            "469/469 [==============================] - 5s 10ms/step - loss: 0.1480 - accuracy: 0.9454\n",
            "Epoch 27/100\n",
            "469/469 [==============================] - 5s 10ms/step - loss: 0.1453 - accuracy: 0.9477\n",
            "Epoch 28/100\n",
            "469/469 [==============================] - 5s 10ms/step - loss: 0.1424 - accuracy: 0.9489\n",
            "Epoch 29/100\n",
            "469/469 [==============================] - 5s 10ms/step - loss: 0.1385 - accuracy: 0.9498\n",
            "Epoch 30/100\n",
            "469/469 [==============================] - 5s 10ms/step - loss: 0.1350 - accuracy: 0.9511\n",
            "Epoch 31/100\n",
            "469/469 [==============================] - 5s 10ms/step - loss: 0.1340 - accuracy: 0.9520\n",
            "Epoch 32/100\n",
            "469/469 [==============================] - 5s 10ms/step - loss: 0.1317 - accuracy: 0.9526\n",
            "Epoch 33/100\n",
            "469/469 [==============================] - 5s 10ms/step - loss: 0.1295 - accuracy: 0.9546\n",
            "Epoch 34/100\n",
            "469/469 [==============================] - 5s 10ms/step - loss: 0.1276 - accuracy: 0.9547\n",
            "Epoch 35/100\n",
            "469/469 [==============================] - 5s 10ms/step - loss: 0.1244 - accuracy: 0.9556\n",
            "Epoch 36/100\n",
            "469/469 [==============================] - 5s 10ms/step - loss: 0.1232 - accuracy: 0.9565\n",
            "Epoch 37/100\n",
            "469/469 [==============================] - 5s 10ms/step - loss: 0.1205 - accuracy: 0.9572\n",
            "Epoch 38/100\n",
            "469/469 [==============================] - 5s 10ms/step - loss: 0.1166 - accuracy: 0.9590\n",
            "Epoch 39/100\n",
            "469/469 [==============================] - 5s 11ms/step - loss: 0.1171 - accuracy: 0.9599\n",
            "Epoch 40/100\n",
            "469/469 [==============================] - 5s 11ms/step - loss: 0.1123 - accuracy: 0.9603\n",
            "Epoch 41/100\n",
            "469/469 [==============================] - 5s 10ms/step - loss: 0.1117 - accuracy: 0.9605\n",
            "Epoch 42/100\n",
            "469/469 [==============================] - 5s 10ms/step - loss: 0.1089 - accuracy: 0.9608\n",
            "Epoch 43/100\n",
            "469/469 [==============================] - 5s 10ms/step - loss: 0.1070 - accuracy: 0.9618\n",
            "Epoch 44/100\n",
            "469/469 [==============================] - 5s 12ms/step - loss: 0.1039 - accuracy: 0.9635\n",
            "Epoch 45/100\n",
            "469/469 [==============================] - 5s 10ms/step - loss: 0.1028 - accuracy: 0.9639\n",
            "Epoch 46/100\n",
            "469/469 [==============================] - 5s 10ms/step - loss: 0.1033 - accuracy: 0.9643\n",
            "Epoch 47/100\n",
            "469/469 [==============================] - 5s 10ms/step - loss: 0.1013 - accuracy: 0.9639\n",
            "Epoch 48/100\n",
            "469/469 [==============================] - 5s 10ms/step - loss: 0.0994 - accuracy: 0.9663\n",
            "Epoch 49/100\n",
            "469/469 [==============================] - 5s 10ms/step - loss: 0.0975 - accuracy: 0.9669\n",
            "Epoch 50/100\n",
            "469/469 [==============================] - 5s 10ms/step - loss: 0.0969 - accuracy: 0.9664\n",
            "Epoch 51/100\n",
            "469/469 [==============================] - 5s 10ms/step - loss: 0.0951 - accuracy: 0.9674\n",
            "Epoch 52/100\n",
            "469/469 [==============================] - 5s 10ms/step - loss: 0.0940 - accuracy: 0.9683\n",
            "Epoch 53/100\n",
            "469/469 [==============================] - 5s 10ms/step - loss: 0.0895 - accuracy: 0.9688\n",
            "Epoch 54/100\n",
            "469/469 [==============================] - 5s 10ms/step - loss: 0.0925 - accuracy: 0.9686\n",
            "Epoch 55/100\n",
            "469/469 [==============================] - 5s 10ms/step - loss: 0.0906 - accuracy: 0.9695\n",
            "Epoch 56/100\n",
            "469/469 [==============================] - 5s 10ms/step - loss: 0.0864 - accuracy: 0.9710\n",
            "Epoch 57/100\n",
            "469/469 [==============================] - 5s 10ms/step - loss: 0.0886 - accuracy: 0.9703\n",
            "Epoch 58/100\n",
            "469/469 [==============================] - 4s 10ms/step - loss: 0.0842 - accuracy: 0.9713\n",
            "Epoch 59/100\n",
            "469/469 [==============================] - 4s 10ms/step - loss: 0.0864 - accuracy: 0.9715\n",
            "Epoch 60/100\n",
            "469/469 [==============================] - 4s 9ms/step - loss: 0.0830 - accuracy: 0.9719\n",
            "Epoch 61/100\n",
            "469/469 [==============================] - 4s 10ms/step - loss: 0.0828 - accuracy: 0.9722\n",
            "Epoch 62/100\n",
            "469/469 [==============================] - 5s 10ms/step - loss: 0.0798 - accuracy: 0.9730\n",
            "Epoch 63/100\n",
            "469/469 [==============================] - 4s 10ms/step - loss: 0.0789 - accuracy: 0.9736\n",
            "Epoch 64/100\n",
            "469/469 [==============================] - 5s 10ms/step - loss: 0.0769 - accuracy: 0.9739\n",
            "Epoch 65/100\n",
            "469/469 [==============================] - 5s 10ms/step - loss: 0.0771 - accuracy: 0.9734\n",
            "Epoch 66/100\n",
            "469/469 [==============================] - 5s 10ms/step - loss: 0.0767 - accuracy: 0.9740\n",
            "Epoch 67/100\n",
            "469/469 [==============================] - 5s 10ms/step - loss: 0.0774 - accuracy: 0.9741\n",
            "Epoch 68/100\n",
            "469/469 [==============================] - 5s 10ms/step - loss: 0.0770 - accuracy: 0.9742\n",
            "Epoch 69/100\n",
            "469/469 [==============================] - 5s 10ms/step - loss: 0.0751 - accuracy: 0.9756\n",
            "Epoch 70/100\n",
            "469/469 [==============================] - 4s 10ms/step - loss: 0.0719 - accuracy: 0.9764\n",
            "Epoch 71/100\n",
            "469/469 [==============================] - 5s 10ms/step - loss: 0.0723 - accuracy: 0.9762\n",
            "Epoch 72/100\n",
            "469/469 [==============================] - 5s 10ms/step - loss: 0.0688 - accuracy: 0.9768\n",
            "Epoch 73/100\n",
            "469/469 [==============================] - 4s 10ms/step - loss: 0.0702 - accuracy: 0.9771\n",
            "Epoch 74/100\n",
            "469/469 [==============================] - 5s 10ms/step - loss: 0.0710 - accuracy: 0.9771\n",
            "Epoch 75/100\n",
            "469/469 [==============================] - 4s 10ms/step - loss: 0.0721 - accuracy: 0.9773\n",
            "Epoch 76/100\n",
            "469/469 [==============================] - 4s 10ms/step - loss: 0.0670 - accuracy: 0.9781\n",
            "Epoch 77/100\n",
            "469/469 [==============================] - 5s 10ms/step - loss: 0.0724 - accuracy: 0.9773\n",
            "Epoch 78/100\n",
            "469/469 [==============================] - 5s 10ms/step - loss: 0.0709 - accuracy: 0.9776\n",
            "Epoch 79/100\n",
            "469/469 [==============================] - 6s 12ms/step - loss: 0.0646 - accuracy: 0.9786\n",
            "Epoch 80/100\n",
            "469/469 [==============================] - 5s 11ms/step - loss: 0.0673 - accuracy: 0.9788\n",
            "Epoch 81/100\n",
            "469/469 [==============================] - 5s 10ms/step - loss: 0.0670 - accuracy: 0.9787\n",
            "Epoch 82/100\n",
            "469/469 [==============================] - 5s 10ms/step - loss: 0.0652 - accuracy: 0.9798\n",
            "Epoch 83/100\n",
            "469/469 [==============================] - 4s 9ms/step - loss: 0.0648 - accuracy: 0.9790\n",
            "Epoch 84/100\n",
            "469/469 [==============================] - 4s 10ms/step - loss: 0.0630 - accuracy: 0.9794\n",
            "Epoch 85/100\n",
            "469/469 [==============================] - 5s 10ms/step - loss: 0.0630 - accuracy: 0.9803\n",
            "Epoch 86/100\n",
            "469/469 [==============================] - 5s 10ms/step - loss: 0.0620 - accuracy: 0.9802\n",
            "Epoch 87/100\n",
            "469/469 [==============================] - 5s 10ms/step - loss: 0.0623 - accuracy: 0.9798\n",
            "Epoch 88/100\n",
            "469/469 [==============================] - 4s 10ms/step - loss: 0.0604 - accuracy: 0.9807\n",
            "Epoch 89/100\n",
            "469/469 [==============================] - 4s 9ms/step - loss: 0.0610 - accuracy: 0.9811\n",
            "Epoch 90/100\n",
            "469/469 [==============================] - 4s 9ms/step - loss: 0.0588 - accuracy: 0.9811\n",
            "Epoch 91/100\n",
            "469/469 [==============================] - 5s 11ms/step - loss: 0.0620 - accuracy: 0.9809\n",
            "Epoch 92/100\n",
            "469/469 [==============================] - 4s 9ms/step - loss: 0.0584 - accuracy: 0.9819\n",
            "Epoch 93/100\n",
            "469/469 [==============================] - 5s 10ms/step - loss: 0.0586 - accuracy: 0.9818\n",
            "Epoch 94/100\n",
            "469/469 [==============================] - 5s 10ms/step - loss: 0.0614 - accuracy: 0.9812\n",
            "Epoch 95/100\n",
            "469/469 [==============================] - 4s 10ms/step - loss: 0.0582 - accuracy: 0.9819\n",
            "Epoch 96/100\n",
            "469/469 [==============================] - 4s 9ms/step - loss: 0.0594 - accuracy: 0.9815\n",
            "Epoch 97/100\n",
            "469/469 [==============================] - 4s 9ms/step - loss: 0.0575 - accuracy: 0.9826\n",
            "Epoch 98/100\n",
            "469/469 [==============================] - 4s 10ms/step - loss: 0.0576 - accuracy: 0.9829\n",
            "Epoch 99/100\n",
            "469/469 [==============================] - 4s 9ms/step - loss: 0.0577 - accuracy: 0.9821\n",
            "Epoch 100/100\n",
            "469/469 [==============================] - 4s 10ms/step - loss: 0.0542 - accuracy: 0.9829\n"
          ]
        },
        {
          "output_type": "execute_result",
          "data": {
            "text/plain": [
              "<keras.callbacks.History at 0x7ffad42ed950>"
            ]
          },
          "metadata": {},
          "execution_count": 15
        }
      ]
    },
    {
      "cell_type": "code",
      "source": [
        "test_loss, test_acc = model.evaluate(x_test, y_test)\n",
        "print(\"Test accuracy: \", test_acc)"
      ],
      "metadata": {
        "colab": {
          "base_uri": "https://localhost:8080/"
        },
        "id": "535qBjuhL6W8",
        "outputId": "f1049d67-677a-406b-b5cb-21151201f05f"
      },
      "execution_count": null,
      "outputs": [
        {
          "output_type": "stream",
          "name": "stdout",
          "text": [
            "313/313 [==============================] - 1s 3ms/step - loss: 1.0045 - accuracy: 0.8969\n",
            "Test accuracy:  0.8968999981880188\n"
          ]
        }
      ]
    },
    {
      "cell_type": "code",
      "source": [
        "from tensorflow.keras.utils import load_img\n",
        "from keras.utils.image_utils import img_to_array\n",
        "import numpy as np\n",
        "\n",
        "url = \"/content/ao.jpg\"\n",
        "img = load_img(url, target_size=(28,28))\n",
        "plt.imshow(img)\n",
        "img = img_to_array(img)\n",
        "img = img.reshape(1, 28, 28, 3)\n",
        "img = img.astype(\"float32\")\n",
        "img = img/255\n",
        "img = img.reshape(-1, 784)\n",
        "\n",
        "prediction = model.predict(img)\n",
        "np.argmax(prediction, axis=1)\n",
        "index = -1\n",
        "max_value = -1\n",
        "\n",
        "for i in range(0, len(prediction[0])):\n",
        "  if max_value < prediction[0][i]:\n",
        "    max_value = prediction[0][i]\n",
        "    index = i\n",
        "print(prediction)\n",
        "print(\"Kết quả: \", class_names[index])\n",
        "print(\"Độ chính xác: \", max_value)"
      ],
      "metadata": {
        "colab": {
          "base_uri": "https://localhost:8080/",
          "height": 421
        },
        "id": "zBQoOlG2Ntve",
        "outputId": "ec0a922d-9012-423a-d55a-89d17fcde3cd"
      },
      "execution_count": null,
      "outputs": [
        {
          "output_type": "stream",
          "name": "stdout",
          "text": [
            "1/1 [==============================] - 0s 17ms/step\n",
            "[[0.0000000e+00 0.0000000e+00 0.0000000e+00 0.0000000e+00 0.0000000e+00\n",
            "  0.0000000e+00 1.0000000e+00 0.0000000e+00 9.2081782e-09 0.0000000e+00]\n",
            " [0.0000000e+00 0.0000000e+00 0.0000000e+00 0.0000000e+00 0.0000000e+00\n",
            "  0.0000000e+00 9.9998784e-01 0.0000000e+00 1.2209386e-05 0.0000000e+00]\n",
            " [0.0000000e+00 0.0000000e+00 0.0000000e+00 8.7550883e-24 0.0000000e+00\n",
            "  0.0000000e+00 0.0000000e+00 0.0000000e+00 1.0000000e+00 0.0000000e+00]]\n",
            "Kết quả:  Shirt\n",
            "Độ chính xác:  1.0\n"
          ]
        },
        {
          "output_type": "display_data",
          "data": {
            "text/plain": [
              "<Figure size 432x288 with 1 Axes>"
            ],
            "image/png": "[encoded data removed]"
          },
          "metadata": {
            "needs_background": "light"
          }
        }
      ]
    },
    {
      "cell_type": "code",
      "source": [],
      "metadata": {
        "id": "c4WgwrssQEUG"
      },
      "execution_count": null,
      "outputs": []
    }
  ]
}