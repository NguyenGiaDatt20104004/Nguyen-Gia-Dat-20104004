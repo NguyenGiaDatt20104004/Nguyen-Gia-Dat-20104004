{
  "nbformat": 4,
  "nbformat_minor": 0,
  "metadata": {
    "colab": {
      "provenance": [],
      "authorship_tag": "ABX9TyO+b3IazmWILHft+FsAQ98o",
      "include_colab_link": true
    },
    "kernelspec": {
      "name": "python3",
      "display_name": "Python 3"
    },
    "language_info": {
      "name": "python"
    }
  },
  "cells": [
    {
      "cell_type": "markdown",
      "metadata": {
        "id": "view-in-github",
        "colab_type": "text"
      },
      "source": [
        "<a href=\"https://colab.research.google.com/github/NguyenGiaDatt20104004/Nguyen-Gia-Dat-20104004/blob/main/AI_(111022).ipynb\" target=\"_parent\"><img src=\"https://colab.research.google.com/assets/colab-badge.svg\" alt=\"Open In Colab\"/></a>"
      ]
    },
    {
      "cell_type": "code",
      "execution_count": null,
      "metadata": {
        "id": "jbcGERBCtW7s"
      },
      "outputs": [],
      "source": [
        "\"\"\"ANN-ARTIFICIAL NEURAL NETWORK\"\"\""
      ]
    },
    {
      "cell_type": "code",
      "source": [
        "#1 Perception - Binary Network - Classification\n",
        "#Multi Layer Perception \n",
        "#ANN\n",
        "#CNN (convolutional NN)\n",
        "#RNN\n",
        "#Natural Language Processing\n",
        "#Pre - Trained Network (Yolo)"
      ],
      "metadata": {
        "id": "JnCePFL8tjHK"
      },
      "execution_count": null,
      "outputs": []
    },
    {
      "cell_type": "code",
      "source": [
        "import numpy as np\n",
        "from sklearn.linear_model import Perceptron\n",
        "\n",
        "x = [[0,0], [1,0], [0,1], [1,1]]\n",
        "y = [0, 1, 1, 1]\n",
        "\n",
        "model = Perceptron()\n",
        "model.fit(x,y)\n",
        "print(\"Độ chính xác: \", model.score(x,y))\n",
        "\n",
        "x_test = [[0,0.5], [0.9,-0.2],[1,-0.5],[0.2,0.7]]\n",
        "y_test = model.predict(x_test)\n",
        "print(y_test)"
      ],
      "metadata": {
        "colab": {
          "base_uri": "https://localhost:8080/"
        },
        "id": "KYiNInSYujt5",
        "outputId": "1e90c2c4-1d50-47c7-ae5d-e09e8b133178"
      },
      "execution_count": null,
      "outputs": [
        {
          "output_type": "stream",
          "name": "stdout",
          "text": [
            "Độ chính xác:  1.0\n",
            "[0 1 0 1]\n"
          ]
        }
      ]
    },
    {
      "cell_type": "code",
      "source": [
        "x = [[-0.5,-0.5], [-0.5,0.5], [0.3,-0.5], [-0.1,1]]\n",
        "y = [1,1,0,0]\n",
        "\n",
        "model = Perceptron()\n",
        "model.fit(x,y)\n",
        "print(\"Độ chính xác: \", model.score(x,y))\n",
        "\n",
        "x_test = [[1,0], [0,1],[1,1],[-0.5,0.5]]\n",
        "y_test = model.predict(x_test)\n",
        "print(y_test)"
      ],
      "metadata": {
        "colab": {
          "base_uri": "https://localhost:8080/"
        },
        "id": "-Fv0FIpgy6Kd",
        "outputId": "c47b5f04-efc8-4de8-840d-9c89513dcd56"
      },
      "execution_count": null,
      "outputs": [
        {
          "output_type": "stream",
          "name": "stdout",
          "text": [
            "Độ chính xác:  1.0\n",
            "[0 0 0 0]\n"
          ]
        }
      ]
    },
    {
      "cell_type": "code",
      "source": [
        "import numpy as np\n",
        "from sklearn.linear_model import Perceptron\n",
        "from sklearn.model_selection import train_test_split\n",
        "import pandas as pd\n",
        "\n",
        "url = \"crabs.csv\"\n",
        "data = pd.read_csv(url)\n",
        "x_data = data[data[\"speies\"]==\"B\"]\n",
        "x = x_data.drop(x.columns[[0,1,2]], axis=1)\n",
        "\n",
        "y_data = data[data[\"speies\"]==\"B\"]\n",
        "y = y_data[\"sex\"].replace([\"M\",\"F\"],[1,0])\n",
        "\n",
        "x_train,x_test,y_train,y_test = train_test_split(x,y,test_size = 0.3)\n",
        "\n",
        "model = Perceptron()\n",
        "model.fit(x_train, y_train)\n",
        "print(\"Độ chính xác: \", model.score(x_train,y_train))\n",
        "\n",
        "x_input = [[8.1,6.7,16.1,19,7], [7.2,6.5,14.7,17.1,6.1]]\n",
        "y_pred = model.predict(x_input)\n",
        "\n",
        "print(y_pred)\n"
      ],
      "metadata": {
        "colab": {
          "base_uri": "https://localhost:8080/"
        },
        "id": "jHhZeGN11_fm",
        "outputId": "da5fc66c-bf7b-4f49-8cf8-57ebf89dd656"
      },
      "execution_count": null,
      "outputs": [
        {
          "output_type": "stream",
          "name": "stdout",
          "text": [
            "Độ chính xác:  0.8714285714285714\n",
            "[1 0]\n"
          ]
        },
        {
          "output_type": "stream",
          "name": "stderr",
          "text": [
            "/usr/local/lib/python3.7/dist-packages/sklearn/base.py:451: UserWarning: X does not have valid feature names, but Perceptron was fitted with feature names\n",
            "  \"X does not have valid feature names, but\"\n"
          ]
        }
      ]
    },
    {
      "cell_type": "code",
      "source": [
        "import numpy as np\n",
        "from sklearn.linear_model import Perceptron\n",
        "from sklearn.model_selection import train_test_split\n",
        "import pandas as pd\n",
        "\n",
        "url = \"crabs.csv\"\n",
        "data = pd.read_csv(url)\n",
        "x_data = data[data[\"speies\"]==\"B\"]\n",
        "x = x_data.drop(x.columns[[0,1,2]], axis=1)\n",
        "\n",
        "y_data = data[data[\"speies\"]==\"B\"]\n",
        "y = y_data[\"sex\"].replace([\"M\",\"F\"],[1,0])\n",
        "y = np.array(y)\n",
        "y=y.T\n",
        "\n",
        "x_train,x_test,y_train,y_test = train_test_split(x,y,test_size = 0.3)\n",
        "\n",
        "model = Perceptron()\n",
        "model.fit(x_train, y_train)\n",
        "print(\"Độ chính xác: \", model.score(x_train,y_train))\n",
        "\n",
        "x_input = [[8.1,6.7,16.1,19,7], [7.2,6.5,14.7,17.1,6.1]]\n",
        "y_pred = model.predict(x_input)\n",
        "\n",
        "print(y_pred)\n"
      ],
      "metadata": {
        "colab": {
          "base_uri": "https://localhost:8080/"
        },
        "id": "FfWwCkpMIP03",
        "outputId": "ee5de073-bc60-4be1-8598-97d2da7b67b3"
      },
      "execution_count": null,
      "outputs": [
        {
          "output_type": "stream",
          "name": "stdout",
          "text": [
            "Độ chính xác:  0.9142857142857143\n",
            "[1 0]\n"
          ]
        },
        {
          "output_type": "stream",
          "name": "stderr",
          "text": [
            "/usr/local/lib/python3.7/dist-packages/sklearn/base.py:451: UserWarning: X does not have valid feature names, but Perceptron was fitted with feature names\n",
            "  \"X does not have valid feature names, but\"\n"
          ]
        }
      ]
    },
    {
      "cell_type": "code",
      "source": [
        "import numpy as np\n",
        "from sklearn.linear_model import Perceptron\n",
        "from sklearn.model_selection import train_test_split \n",
        "from sklearn.datasets import load_iris\n",
        "import pandas as pd\n",
        "url = '/content/iris.csv'\n",
        "data = pd.read_csv(url)\n",
        "data = data[:100]\n",
        "x= data.drop(['variety'],axis = True)\n",
        "y= data['variety'].replace(['Setosa','Versicolor','Virginica'],[1,0,0])\n",
        "x_train,x_test,y_train,y_test = train_test_split(x,y,test_size = 0.3)\n",
        "model = Perceptron()\n",
        "model.fit(x_train,y_train)\n",
        "print('Độ chính xác: ', model.score(x_train,y_train))\n",
        "x_input = [[5,3,1.6,0.2],[5,3.4,1.6,0.4],[7,3.2,4.7,1.4]]\n",
        "y_pred = model.predict(x_input)\n",
        "print(y_pred)"
      ],
      "metadata": {
        "colab": {
          "base_uri": "https://localhost:8080/"
        },
        "id": "Hr7grtu3UkNp",
        "outputId": "c89db16a-d698-4c58-e309-de3b664cb427"
      },
      "execution_count": null,
      "outputs": [
        {
          "output_type": "stream",
          "name": "stdout",
          "text": [
            "Độ chính xác:  1.0\n",
            "[1 1 0]\n"
          ]
        },
        {
          "output_type": "stream",
          "name": "stderr",
          "text": [
            "/usr/local/lib/python3.7/dist-packages/sklearn/base.py:451: UserWarning: X does not have valid feature names, but Perceptron was fitted with feature names\n",
            "  \"X does not have valid feature names, but\"\n"
          ]
        }
      ]
    },
    {
      "cell_type": "code",
      "source": [],
      "metadata": {
        "id": "7GQXw7VVVN7s"
      },
      "execution_count": null,
      "outputs": []
    }
  ]
}