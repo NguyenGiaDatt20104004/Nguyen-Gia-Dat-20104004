{
  "nbformat": 4,
  "nbformat_minor": 0,
  "metadata": {
    "colab": {
      "provenance": [],
      "authorship_tag": "ABX9TyO/bqON++lTqT4x6M6hAJGU",
      "include_colab_link": true
    },
    "kernelspec": {
      "name": "python3",
      "display_name": "Python 3"
    },
    "language_info": {
      "name": "python"
    }
  },
  "cells": [
    {
      "cell_type": "markdown",
      "metadata": {
        "id": "view-in-github",
        "colab_type": "text"
      },
      "source": [
        "<a href=\"https://colab.research.google.com/github/NguyenGiaDatt20104004/Nguyen-Gia-Dat-20104004/blob/main/AI2_(15112022).ipynb\" target=\"_parent\"><img src=\"https://colab.research.google.com/assets/colab-badge.svg\" alt=\"Open In Colab\"/></a>"
      ]
    },
    {
      "cell_type": "code",
      "execution_count": null,
      "metadata": {
        "id": "DpfyJCcLWGHK"
      },
      "outputs": [],
      "source": [
        "#ResNet50"
      ]
    },
    {
      "cell_type": "code",
      "source": [
        "#import tensorflow as tf\n",
        "#import numpy as np"
      ],
      "metadata": {
        "id": "KdXQfpsaW1co"
      },
      "execution_count": null,
      "outputs": []
    },
    {
      "cell_type": "code",
      "source": [
        "from tensorflow.keras.applications.resnet50 import ResNet50\n",
        "from tensorflow.keras.preprocessing import image\n",
        "from tensorflow.keras.applications.resnet50 import preprocess_input, decode_predictions\n",
        "import numpy as np\n",
        "\n",
        "model = ResNet50(weights='imagenet')\n",
        "\n",
        "img_path = '/content/cho-con.jpg'\n",
        "img = image.load_img(img_path, target_size=(224, 224))\n",
        "x = image.img_to_array(img)\n",
        "x = np.expand_dims(x, axis=0)\n",
        "x = preprocess_input(x)\n",
        "\n",
        "preds = model.predict(x)\n",
        "# decode the results into a list of tuples (class, description, probability)\n",
        "# (one such list for each sample in the batch)\n",
        "print('Predicted:', decode_predictions(preds, top=3)[0])\n",
        "# Predicted: [(u'n02504013', u'Indian_elephant', 0.82658225), (u'n01871265', u'tusker', 0.1122357), (u'n02504458', u'African_elephant', 0.061040461)]"
      ],
      "metadata": {
        "colab": {
          "base_uri": "https://localhost:8080/"
        },
        "id": "_99sSc2xW_jk",
        "outputId": "023360dc-4928-4399-fb36-57840a8d3c33"
      },
      "execution_count": null,
      "outputs": [
        {
          "output_type": "stream",
          "name": "stdout",
          "text": [
            "1/1 [==============================] - 1s 1s/step\n",
            "Predicted: [('n02113023', 'Pembroke', 0.98463285), ('n02088364', 'beagle', 0.00797142), ('n02113186', 'Cardigan', 0.004248169)]\n"
          ]
        }
      ]
    },
    {
      "cell_type": "code",
      "source": [
        "#VGG16\n",
        "from tensorflow.keras.applications.vgg16 import VGG16\n",
        "from tensorflow.keras.preprocessing import image\n",
        "from tensorflow.keras.applications.vgg16 import preprocess_input\n",
        "import numpy as np\n",
        "\n",
        "model = VGG16(weights='imagenet', include_top=False)\n",
        "\n",
        "img_path = 'husky.jpg'\n",
        "img = image.load_img(img_path, target_size=(224, 224))\n",
        "x = image.img_to_array(img)\n",
        "x = np.expand_dims(x, axis=0)\n",
        "x = preprocess_input(x)\n",
        "\n",
        "features = model.predict(x)\n",
        "print('Predicted:', preprocess_input(x))"
      ],
      "metadata": {
        "colab": {
          "base_uri": "https://localhost:8080/"
        },
        "id": "U02d43eXZF1-",
        "outputId": "fa612fef-7d46-4946-db12-86c71c6aa59a"
      },
      "execution_count": null,
      "outputs": [
        {
          "output_type": "stream",
          "name": "stdout",
          "text": [
            "1/1 [==============================] - 1s 722ms/step\n",
            "Predicted: [[[[-194.619 -193.558 -218.619]\n",
            "   [-197.619 -197.558 -219.619]\n",
            "   [-200.619 -201.558 -218.619]\n",
            "   ...\n",
            "   [-183.619 -180.558 -201.619]\n",
            "   [-185.619 -184.558 -211.619]\n",
            "   [-185.619 -184.558 -211.619]]\n",
            "\n",
            "  [[-193.619 -192.558 -217.619]\n",
            "   [-194.619 -194.558 -216.619]\n",
            "   [-197.619 -197.558 -217.619]\n",
            "   ...\n",
            "   [-183.619 -180.558 -201.619]\n",
            "   [-185.619 -184.558 -209.619]\n",
            "   [-185.619 -184.558 -209.619]]\n",
            "\n",
            "  [[-188.619 -187.558 -214.619]\n",
            "   [-192.619 -191.558 -216.619]\n",
            "   [-196.619 -196.558 -216.619]\n",
            "   ...\n",
            "   [-184.619 -181.558 -202.619]\n",
            "   [-185.619 -184.558 -209.619]\n",
            "   [-185.619 -184.558 -209.619]]\n",
            "\n",
            "  ...\n",
            "\n",
            "  [[ -84.619 -112.558 -164.619]\n",
            "   [ -86.619 -118.558 -161.619]\n",
            "   [ -84.619 -109.558 -162.619]\n",
            "   ...\n",
            "   [ -71.619 -109.558 -142.619]\n",
            "   [ -78.619 -116.558 -151.619]\n",
            "   [ -84.619 -117.558 -154.619]]\n",
            "\n",
            "  [[ -86.619 -113.558 -164.619]\n",
            "   [ -86.619 -116.558 -156.619]\n",
            "   [ -72.619  -97.558 -147.619]\n",
            "   ...\n",
            "   [ -73.619 -103.558 -143.619]\n",
            "   [ -76.619 -111.558 -149.619]\n",
            "   [ -75.619 -105.558 -143.619]]\n",
            "\n",
            "  [[ -86.619 -113.558 -160.619]\n",
            "   [ -80.619 -111.558 -146.619]\n",
            "   [ -71.619  -99.558 -142.619]\n",
            "   ...\n",
            "   [ -78.619 -105.558 -152.619]\n",
            "   [ -77.619 -111.558 -152.619]\n",
            "   [ -76.619 -106.558 -146.619]]]]\n"
          ]
        }
      ]
    },
    {
      "cell_type": "code",
      "source": [],
      "metadata": {
        "id": "wTDDkWGPaxd1"
      },
      "execution_count": null,
      "outputs": []
    }
  ]
}