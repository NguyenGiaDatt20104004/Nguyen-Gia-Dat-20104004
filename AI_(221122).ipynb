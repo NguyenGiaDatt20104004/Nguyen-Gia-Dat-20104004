{
  "nbformat": 4,
  "nbformat_minor": 0,
  "metadata": {
    "colab": {
      "provenance": [],
      "authorship_tag": "ABX9TyPZIwged4OeFFz43wvQF/zo",
      "include_colab_link": true
    },
    "kernelspec": {
      "name": "python3",
      "display_name": "Python 3"
    },
    "language_info": {
      "name": "python"
    }
  },
  "cells": [
    {
      "cell_type": "markdown",
      "metadata": {
        "id": "view-in-github",
        "colab_type": "text"
      },
      "source": [
        "<a href=\"https://colab.research.google.com/github/NguyenGiaDatt20104004/Nguyen-Gia-Dat-20104004/blob/main/AI_(221122).ipynb\" target=\"_parent\"><img src=\"https://colab.research.google.com/assets/colab-badge.svg\" alt=\"Open In Colab\"/></a>"
      ]
    },
    {
      "cell_type": "code",
      "execution_count": null,
      "metadata": {
        "id": "KLpnJVc9HDqp"
      },
      "outputs": [],
      "source": [
        "'''Natuaral Language Processing_NLP'''"
      ]
    },
    {
      "cell_type": "code",
      "source": [
        "pip install youtube-search"
      ],
      "metadata": {
        "colab": {
          "base_uri": "https://localhost:8080/"
        },
        "id": "5gEvsxZaHSt5",
        "outputId": "3de84029-10e9-44b6-d8eb-01a49643bed4"
      },
      "execution_count": null,
      "outputs": [
        {
          "output_type": "stream",
          "name": "stdout",
          "text": [
            "Looking in indexes: https://pypi.org/simple, https://us-python.pkg.dev/colab-wheels/public/simple/\n",
            "Requirement already satisfied: youtube-search in /usr/local/lib/python3.7/dist-packages (2.1.2)\n",
            "Requirement already satisfied: requests in /usr/local/lib/python3.7/dist-packages (from youtube-search) (2.28.1)\n",
            "Requirement already satisfied: idna<4,>=2.5 in /usr/local/lib/python3.7/dist-packages (from requests->youtube-search) (2.10)\n",
            "Requirement already satisfied: charset-normalizer<3,>=2 in /usr/local/lib/python3.7/dist-packages (from requests->youtube-search) (2.1.1)\n",
            "Requirement already satisfied: urllib3<1.27,>=1.21.1 in /usr/local/lib/python3.7/dist-packages (from requests->youtube-search) (1.24.3)\n",
            "Requirement already satisfied: certifi>=2017.4.17 in /usr/local/lib/python3.7/dist-packages (from requests->youtube-search) (2022.9.24)\n"
          ]
        }
      ]
    },
    {
      "cell_type": "code",
      "source": [
        "from youtube_search import YoutubeSearch\n",
        "import webbrowser\n",
        "\n",
        "mysong = input(\"Xin mời bạn chọn tên bài hát: \")\n",
        "print(mysong)\n",
        "result = YoutubeSearch(mysong, max_results=10).to_dict()\n",
        "print(result)\n",
        "print(result[0][\"url_suffix\"])\n",
        "url = \"http://youtube.com\" + result[0][\"url_suffix\"]\n",
        "print(url)\n",
        "webbrowser.open(url)\n",
        "print(\"Bài hát yêu cầu đã được mở\")"
      ],
      "metadata": {
        "colab": {
          "base_uri": "https://localhost:8080/"
        },
        "id": "5UshtF4zHdt0",
        "outputId": "9078d2c4-bb32-48df-c9d6-9507af645240"
      },
      "execution_count": null,
      "outputs": [
        {
          "output_type": "stream",
          "name": "stdout",
          "text": [
            "Xin mời bạn chọn tên bài hát: đường một chiều\n",
            "đường một chiều\n",
            "[{'id': 'W6hxiDmMGSE', 'thumbnails': ['https://i.ytimg.com/vi/W6hxiDmMGSE/hq720.jpg?sqp=-oaymwEjCOgCEMoBSFryq4qpAxUIARUAAAAAGAElAADIQj0AgKJDeAE=&rs=AOn4CLBwhgUSsOCGQs2mf4iZ4zkilo13iQ', 'https://i.ytimg.com/vi/W6hxiDmMGSE/hq720.jpg?sqp=-oaymwEXCNAFEJQDSFryq4qpAwkIARUAAIhCGAE=&rs=AOn4CLAK5cc00hqNeMpPu5J4niPkJSs93g'], 'title': 'Đường Một Chiều - Huỳnh Tú ft. Magazine || Official Music Video', 'long_desc': None, 'channel': 'Tú Huỳnh', 'duration': '4:50', 'views': '123,886,544 views', 'publish_time': '5 years ago', 'url_suffix': '/watch?v=W6hxiDmMGSE'}, {'id': 'C2u3ldkSNIQ', 'thumbnails': ['https://i.ytimg.com/vi/C2u3ldkSNIQ/hq720.jpg?sqp=-oaymwEjCOgCEMoBSFryq4qpAxUIARUAAAAAGAElAADIQj0AgKJDeAE=&rs=AOn4CLDOq4ipOg2-n1yRnaQVa51W7mTwZw', 'https://i.ytimg.com/vi/C2u3ldkSNIQ/hq720.jpg?sqp=-oaymwEXCNAFEJQDSFryq4qpAwkIARUAAIhCGAE=&rs=AOn4CLD6Hzmg_BsdfTD_1kY8aHcB8qztIA'], 'title': '『Lyric Video』 Đường Một Chiều - Huỳnh Tú ft. Magazine', 'long_desc': None, 'channel': 'Sư Tử RV', 'duration': '4:50', 'views': '498,855 views', 'publish_time': '5 years ago', 'url_suffix': '/watch?v=C2u3ldkSNIQ'}, {'id': 'anlmEZ5Rs18', 'thumbnails': ['https://i.ytimg.com/vi/anlmEZ5Rs18/hq720.jpg?sqp=-oaymwEjCOgCEMoBSFryq4qpAxUIARUAAAAAGAElAADIQj0AgKJDeAE=&rs=AOn4CLAFXEbp5KT5fwoUj9iRehxmDrW4sg', 'https://i.ytimg.com/vi/anlmEZ5Rs18/hq720.jpg?sqp=-oaymwEXCNAFEJQDSFryq4qpAwkIARUAAIhCGAE=&rs=AOn4CLAEr2VHJZokQyHiL9LnjDLP-6cakw'], 'title': 'Đường Một Chiều', 'long_desc': None, 'channel': 'Tú Huỳnh', 'duration': '4:50', 'views': '428,994 views', 'publish_time': 0, 'url_suffix': '/watch?v=anlmEZ5Rs18'}, {'id': 'FXNkutEMT38', 'thumbnails': ['https://i.ytimg.com/vi/FXNkutEMT38/hq720.jpg?sqp=-oaymwEjCOgCEMoBSFryq4qpAxUIARUAAAAAGAElAADIQj0AgKJDeAE=&rs=AOn4CLBfUE5YwPcNMIzvfiamLVFzJDTwZQ', 'https://i.ytimg.com/vi/FXNkutEMT38/hq720.jpg?sqp=-oaymwEXCNAFEJQDSFryq4qpAwkIARUAAIhCGAE=&rs=AOn4CLDOsUDcBR5A3wIfBCM7wTrTBcVBiw'], 'title': 'Huỳnh Tú - Đường Một Chiều ft. Đạt G, Khói & Hakoota (live at DRUNK ON MUSIC)', 'long_desc': None, 'channel': '88 Music Entertainment', 'duration': '5:45', 'views': '369,990 views', 'publish_time': '3 months ago', 'url_suffix': '/watch?v=FXNkutEMT38'}, {'id': 'Yl2k3cnLWkk', 'thumbnails': ['https://i.ytimg.com/vi/Yl2k3cnLWkk/hq720.jpg?sqp=-oaymwEjCOgCEMoBSFryq4qpAxUIARUAAAAAGAElAADIQj0AgKJDeAE=&rs=AOn4CLATdIpF--7I6LENioTEADhQBintGw', 'https://i.ytimg.com/vi/Yl2k3cnLWkk/hq720.jpg?sqp=-oaymwEXCNAFEJQDSFryq4qpAwkIARUAAIhCGAE=&rs=AOn4CLDkg-QcWQl32PrO0JA4q_DNZF6MYA'], 'title': 'Đường Một Chiều   Huỳnh Tú X Magazine Masew Mix', 'long_desc': None, 'channel': 'Tiến Toàn', 'duration': '5:07', 'views': '1,837,708 views', 'publish_time': '5 years ago', 'url_suffix': '/watch?v=Yl2k3cnLWkk'}, {'id': 'ysI7rEt7iEM', 'thumbnails': ['https://i.ytimg.com/vi/ysI7rEt7iEM/hq720.jpg?sqp=-oaymwEjCOgCEMoBSFryq4qpAxUIARUAAAAAGAElAADIQj0AgKJDeAE=&rs=AOn4CLAYMAlltC6XQPliFqD8m5TfyGNiRA', 'https://i.ytimg.com/vi/ysI7rEt7iEM/hq720.jpg?sqp=-oaymwEXCNAFEJQDSFryq4qpAwkIARUAAIhCGAE=&rs=AOn4CLCb3eM-TBBZ5206iLdMQuz_Z0xryw'], 'title': 'Đường Một Chiều - Huỳnh Tú (Audio)', 'long_desc': None, 'channel': 'Tú Huỳnh', 'duration': '4:46', 'views': '444,056 views', 'publish_time': '6 years ago', 'url_suffix': '/watch?v=ysI7rEt7iEM'}, {'id': 'CKi3ChuFS-M', 'thumbnails': ['https://i.ytimg.com/vi/CKi3ChuFS-M/hqdefault.jpg?sqp=-oaymwE9COADEI4CSFryq4qpAy8IARUAAAAAGAElAADIQj0AgKJDeAHwAQH4Af4EgALoAooCDAgAEAEYfyBfKBMwDw==&rs=AOn4CLC7K9n8pZRcX2CACmidJqdtCjEbRw'], 'title': 'CON ĐƯỜNG MỘT CHIỀU. Tập Một. Tác giả: Bà Tùng Long. Người đọc: Thái Hoàng Phi', 'long_desc': None, 'channel': 'TỦ SÁCH TINH HOA của Thái Hoàng Phi', 'duration': '58:51', 'views': '55,663 views', 'publish_time': '1 year ago', 'url_suffix': '/watch?v=CKi3ChuFS-M'}, {'id': '57z-n2-hEEc', 'thumbnails': ['https://i.ytimg.com/vi/57z-n2-hEEc/hq720.jpg?sqp=-oaymwEjCOgCEMoBSFryq4qpAxUIARUAAAAAGAElAADIQj0AgKJDeAE=&rs=AOn4CLBSZTokXDE2yOHksTjPndfBv8jTVg', 'https://i.ytimg.com/vi/57z-n2-hEEc/hq720.jpg?sqp=-oaymwEXCNAFEJQDSFryq4qpAwkIARUAAIhCGAE=&rs=AOn4CLBTaIwjuwtLvUg0tgIn9yOW0hzBDg'], 'title': '[Replay] Đường Một Chiều -  Huỳnh Tú [1 Hour]', 'long_desc': None, 'channel': 'Music Channel 1 Hour', 'duration': '1:02:51', 'views': '359,882 views', 'publish_time': '5 years ago', 'url_suffix': '/watch?v=57z-n2-hEEc'}, {'id': '1BDajam7Ndc', 'thumbnails': ['https://i.ytimg.com/vi/1BDajam7Ndc/hq720.jpg?sqp=-oaymwEjCOgCEMoBSFryq4qpAxUIARUAAAAAGAElAADIQj0AgKJDeAE=&rs=AOn4CLCATvWWTkDZpjEswE2jcsmKv9K8mA', 'https://i.ytimg.com/vi/1BDajam7Ndc/hq720.jpg?sqp=-oaymwEXCNAFEJQDSFryq4qpAwkIARUAAIhCGAE=&rs=AOn4CLBhVJ64S0Q-RSkMAiKMsg4E-ztt-g'], 'title': 'Giọng ải giọng ai 3 | Tập 8: PewPew, MisThy sững sờ với \"Đường một chiều\" của Huỳnh Tú', 'long_desc': None, 'channel': 'DIEN QUAN Entertainment / Giải Trí', 'duration': '4:11', 'views': '7,444,726 views', 'publish_time': '4 years ago', 'url_suffix': '/watch?v=1BDajam7Ndc'}, {'id': 'a6twSyaHMGM', 'thumbnails': ['https://i.ytimg.com/vi/a6twSyaHMGM/hq720.jpg?sqp=-oaymwE9COgCEMoBSFryq4qpAy8IARUAAAAAGAElAADIQj0AgKJDeAHwAQH4Af4JgALQBYoCDAgAEAEYciBNKC8wDw==&rs=AOn4CLB0TZhSdBt47XP1Dz0wPUBiuzVRKA', 'https://i.ytimg.com/vi/a6twSyaHMGM/hq720.jpg?sqp=-oaymwExCNAFEJQDSFryq4qpAyMIARUAAIhCGAHwAQH4Af4JgALQBYoCDAgAEAEYciBNKC8wDw==&rs=AOn4CLAFulNhAG6TNdXcnszAGwiJ9fY5ZA'], 'title': 'Đường một chiều - Huỳnh Tú Ft. Magazine || Lyrics', 'long_desc': None, 'channel': 'Boo Dũng', 'duration': '4:35', 'views': '12,356 views', 'publish_time': '3 months ago', 'url_suffix': '/watch?v=a6twSyaHMGM'}]\n",
            "/watch?v=W6hxiDmMGSE\n",
            "http://youtube.com/watch?v=W6hxiDmMGSE\n",
            "Bài hát yêu cầu đã được mở\n"
          ]
        }
      ]
    },
    {
      "cell_type": "code",
      "source": [
        "pip install PyAudio"
      ],
      "metadata": {
        "colab": {
          "base_uri": "https://localhost:8080/"
        },
        "id": "R6cDd58mJryX",
        "outputId": "f443ac3a-658d-4e8a-e2f0-7e09a5a7110a"
      },
      "execution_count": null,
      "outputs": [
        {
          "output_type": "stream",
          "name": "stdout",
          "text": [
            "Looking in indexes: https://pypi.org/simple, https://us-python.pkg.dev/colab-wheels/public/simple/\n",
            "Collecting PyAudio\n",
            "  Downloading PyAudio-0.2.12.tar.gz (42 kB)\n",
            "\u001b[K     |████████████████████████████████| 42 kB 1.3 MB/s \n",
            "\u001b[?25h  Installing build dependencies ... \u001b[?25l\u001b[?25hdone\n",
            "  Getting requirements to build wheel ... \u001b[?25l\u001b[?25hdone\n",
            "    Preparing wheel metadata ... \u001b[?25l\u001b[?25hdone\n",
            "Building wheels for collected packages: PyAudio\n",
            "  Building wheel for PyAudio (PEP 517) ... \u001b[?25l\u001b[?25herror\n",
            "\u001b[31m  ERROR: Failed building wheel for PyAudio\u001b[0m\n",
            "Failed to build PyAudio\n",
            "\u001b[31mERROR: Could not build wheels for PyAudio which use PEP 517 and cannot be installed directly\u001b[0m\n"
          ]
        }
      ]
    },
    {
      "cell_type": "code",
      "source": [
        "pip install SpeechRecognition"
      ],
      "metadata": {
        "colab": {
          "base_uri": "https://localhost:8080/"
        },
        "id": "iiWRZpilNx_I",
        "outputId": "a3ec131e-8642-4d51-aba7-95d850680987"
      },
      "execution_count": null,
      "outputs": [
        {
          "output_type": "stream",
          "name": "stdout",
          "text": [
            "Looking in indexes: https://pypi.org/simple, https://us-python.pkg.dev/colab-wheels/public/simple/\n",
            "Requirement already satisfied: SpeechRecognition in /usr/local/lib/python3.7/dist-packages (3.8.1)\n"
          ]
        }
      ]
    },
    {
      "cell_type": "code",
      "source": [
        "pip install google-cloud-speech"
      ],
      "metadata": {
        "colab": {
          "base_uri": "https://localhost:8080/"
        },
        "id": "Kbc6dXInOAaG",
        "outputId": "ff6de36f-bbfc-4793-f19b-1753733a2ced"
      },
      "execution_count": null,
      "outputs": [
        {
          "output_type": "stream",
          "name": "stdout",
          "text": [
            "Looking in indexes: https://pypi.org/simple, https://us-python.pkg.dev/colab-wheels/public/simple/\n",
            "Requirement already satisfied: google-cloud-speech in /usr/local/lib/python3.7/dist-packages (2.16.2)\n",
            "Requirement already satisfied: google-api-core[grpc]!=2.0.*,!=2.1.*,!=2.2.*,!=2.3.*,!=2.4.*,!=2.5.*,!=2.6.*,!=2.7.*,<3.0.0dev,>=1.32.0 in /usr/local/lib/python3.7/dist-packages (from google-cloud-speech) (2.8.2)\n",
            "Requirement already satisfied: protobuf!=3.20.0,!=3.20.1,!=4.21.0,!=4.21.1,!=4.21.2,!=4.21.3,!=4.21.4,!=4.21.5,<5.0.0dev,>=3.19.5 in /usr/local/lib/python3.7/dist-packages (from google-cloud-speech) (3.19.6)\n",
            "Requirement already satisfied: proto-plus<2.0.0dev,>=1.22.0 in /usr/local/lib/python3.7/dist-packages (from google-cloud-speech) (1.22.1)\n",
            "Requirement already satisfied: google-auth<3.0dev,>=1.25.0 in /usr/local/lib/python3.7/dist-packages (from google-api-core[grpc]!=2.0.*,!=2.1.*,!=2.2.*,!=2.3.*,!=2.4.*,!=2.5.*,!=2.6.*,!=2.7.*,<3.0.0dev,>=1.32.0->google-cloud-speech) (2.14.1)\n",
            "Requirement already satisfied: requests<3.0.0dev,>=2.18.0 in /usr/local/lib/python3.7/dist-packages (from google-api-core[grpc]!=2.0.*,!=2.1.*,!=2.2.*,!=2.3.*,!=2.4.*,!=2.5.*,!=2.6.*,!=2.7.*,<3.0.0dev,>=1.32.0->google-cloud-speech) (2.28.1)\n",
            "Requirement already satisfied: googleapis-common-protos<2.0dev,>=1.56.2 in /usr/local/lib/python3.7/dist-packages (from google-api-core[grpc]!=2.0.*,!=2.1.*,!=2.2.*,!=2.3.*,!=2.4.*,!=2.5.*,!=2.6.*,!=2.7.*,<3.0.0dev,>=1.32.0->google-cloud-speech) (1.57.0)\n",
            "Requirement already satisfied: grpcio<2.0dev,>=1.33.2 in /usr/local/lib/python3.7/dist-packages (from google-api-core[grpc]!=2.0.*,!=2.1.*,!=2.2.*,!=2.3.*,!=2.4.*,!=2.5.*,!=2.6.*,!=2.7.*,<3.0.0dev,>=1.32.0->google-cloud-speech) (1.50.0)\n",
            "Requirement already satisfied: grpcio-status<2.0dev,>=1.33.2 in /usr/local/lib/python3.7/dist-packages (from google-api-core[grpc]!=2.0.*,!=2.1.*,!=2.2.*,!=2.3.*,!=2.4.*,!=2.5.*,!=2.6.*,!=2.7.*,<3.0.0dev,>=1.32.0->google-cloud-speech) (1.48.2)\n",
            "Requirement already satisfied: rsa<5,>=3.1.4 in /usr/local/lib/python3.7/dist-packages (from google-auth<3.0dev,>=1.25.0->google-api-core[grpc]!=2.0.*,!=2.1.*,!=2.2.*,!=2.3.*,!=2.4.*,!=2.5.*,!=2.6.*,!=2.7.*,<3.0.0dev,>=1.32.0->google-cloud-speech) (4.9)\n",
            "Requirement already satisfied: cachetools<6.0,>=2.0.0 in /usr/local/lib/python3.7/dist-packages (from google-auth<3.0dev,>=1.25.0->google-api-core[grpc]!=2.0.*,!=2.1.*,!=2.2.*,!=2.3.*,!=2.4.*,!=2.5.*,!=2.6.*,!=2.7.*,<3.0.0dev,>=1.32.0->google-cloud-speech) (5.2.0)\n",
            "Requirement already satisfied: six>=1.9.0 in /usr/local/lib/python3.7/dist-packages (from google-auth<3.0dev,>=1.25.0->google-api-core[grpc]!=2.0.*,!=2.1.*,!=2.2.*,!=2.3.*,!=2.4.*,!=2.5.*,!=2.6.*,!=2.7.*,<3.0.0dev,>=1.32.0->google-cloud-speech) (1.16.0)\n",
            "Requirement already satisfied: pyasn1-modules>=0.2.1 in /usr/local/lib/python3.7/dist-packages (from google-auth<3.0dev,>=1.25.0->google-api-core[grpc]!=2.0.*,!=2.1.*,!=2.2.*,!=2.3.*,!=2.4.*,!=2.5.*,!=2.6.*,!=2.7.*,<3.0.0dev,>=1.32.0->google-cloud-speech) (0.2.8)\n",
            "Requirement already satisfied: pyasn1<0.5.0,>=0.4.6 in /usr/local/lib/python3.7/dist-packages (from pyasn1-modules>=0.2.1->google-auth<3.0dev,>=1.25.0->google-api-core[grpc]!=2.0.*,!=2.1.*,!=2.2.*,!=2.3.*,!=2.4.*,!=2.5.*,!=2.6.*,!=2.7.*,<3.0.0dev,>=1.32.0->google-cloud-speech) (0.4.8)\n",
            "Requirement already satisfied: urllib3<1.27,>=1.21.1 in /usr/local/lib/python3.7/dist-packages (from requests<3.0.0dev,>=2.18.0->google-api-core[grpc]!=2.0.*,!=2.1.*,!=2.2.*,!=2.3.*,!=2.4.*,!=2.5.*,!=2.6.*,!=2.7.*,<3.0.0dev,>=1.32.0->google-cloud-speech) (1.24.3)\n",
            "Requirement already satisfied: certifi>=2017.4.17 in /usr/local/lib/python3.7/dist-packages (from requests<3.0.0dev,>=2.18.0->google-api-core[grpc]!=2.0.*,!=2.1.*,!=2.2.*,!=2.3.*,!=2.4.*,!=2.5.*,!=2.6.*,!=2.7.*,<3.0.0dev,>=1.32.0->google-cloud-speech) (2022.9.24)\n",
            "Requirement already satisfied: charset-normalizer<3,>=2 in /usr/local/lib/python3.7/dist-packages (from requests<3.0.0dev,>=2.18.0->google-api-core[grpc]!=2.0.*,!=2.1.*,!=2.2.*,!=2.3.*,!=2.4.*,!=2.5.*,!=2.6.*,!=2.7.*,<3.0.0dev,>=1.32.0->google-cloud-speech) (2.1.1)\n",
            "Requirement already satisfied: idna<4,>=2.5 in /usr/local/lib/python3.7/dist-packages (from requests<3.0.0dev,>=2.18.0->google-api-core[grpc]!=2.0.*,!=2.1.*,!=2.2.*,!=2.3.*,!=2.4.*,!=2.5.*,!=2.6.*,!=2.7.*,<3.0.0dev,>=1.32.0->google-cloud-speech) (2.10)\n"
          ]
        }
      ]
    },
    {
      "cell_type": "code",
      "source": [
        "filename=\"1.wav\"\n",
        "import speech_recognition as sr\n",
        "\n",
        "r = sr.Recognizer()\n",
        "with sr.AudioFile(filename) as source:\n",
        "  audio_data = r.record(source)\n",
        "text = r.recognize_google(audio_data)\n",
        "print(text)"
      ],
      "metadata": {
        "colab": {
          "base_uri": "https://localhost:8080/"
        },
        "id": "NSNb_acLOGxF",
        "outputId": "d2387c10-26ba-4b06-e4fc-75bf227e66b7"
      },
      "execution_count": null,
      "outputs": [
        {
          "output_type": "stream",
          "name": "stdout",
          "text": [
            "number 1A she's arranging some flowers be she's moving a table see she's putting on a jacket D she's picking up a notebook\n"
          ]
        }
      ]
    },
    {
      "cell_type": "code",
      "source": [
        "filename=\"b11.wav\"\n",
        "\n",
        "r = sr.Recognizer()\n",
        "with sr.AudioFile(filename) as source:\n",
        "  audio_data = r.record(source, offset=3, duration=60)\n",
        "text = r.recognize_google(audio_data, language=\"zh_cn\")\n",
        "print(text)"
      ],
      "metadata": {
        "colab": {
          "base_uri": "https://localhost:8080/"
        },
        "id": "eYn7XL3pSeZW",
        "outputId": "cb926922-1c70-473e-d718-ae05742bcdf7"
      },
      "execution_count": null,
      "outputs": [
        {
          "output_type": "stream",
          "name": "stdout",
          "text": [
            "我们都是留学生一课文与这位是王教授我先介绍一下这位是王教授这是马校长和李明王总说谢谢儿我们都是留学生你是留学生吗是罗兰也是留学生吗他也是留学生我们都是留学生中东和田方也都是留学生吗不他们俩不是\n"
          ]
        }
      ]
    },
    {
      "cell_type": "code",
      "source": [
        "filename=\"WBH.wav\"\n",
        "\n",
        "r = sr.Recognizer()\n",
        "with sr.AudioFile(filename) as source:\n",
        "  audio_data = r.record(source, offset=0, duration=120)\n",
        "text = r.recognize_google(audio_data, language=\"ko\")\n",
        "print(text)"
      ],
      "metadata": {
        "colab": {
          "base_uri": "https://localhost:8080/"
        },
        "id": "NOnbdfPvQU32",
        "outputId": "930431e7-c5c5-4ee1-d3b6-bf389e653d7c"
      },
      "execution_count": null,
      "outputs": [
        {
          "output_type": "stream",
          "name": "stdout",
          "text": [
            "멈춘 시간 속 잠든 널 찾아가 아무리 막아도 결국 너의 곁인 걸 돌아가 너라는 집으로 지금 다시 웨이 백 홈 틀어 줘 다시 열 사람 힘들게 해서 잠든 너를 찾아가 아무리 막아도 결국 너의 곁인 걸 주고 집으로 지금 다시 기억을 들어와\n"
          ]
        }
      ]
    },
    {
      "cell_type": "code",
      "source": [
        "pip install playsound"
      ],
      "metadata": {
        "colab": {
          "base_uri": "https://localhost:8080/"
        },
        "id": "TmP2etqjXHMU",
        "outputId": "85d0d35d-5e71-4cbe-932e-60ffef20c917"
      },
      "execution_count": null,
      "outputs": [
        {
          "output_type": "stream",
          "name": "stdout",
          "text": [
            "Looking in indexes: https://pypi.org/simple, https://us-python.pkg.dev/colab-wheels/public/simple/\n",
            "Requirement already satisfied: playsound in /usr/local/lib/python3.7/dist-packages (1.3.0)\n"
          ]
        }
      ]
    },
    {
      "cell_type": "code",
      "source": [
        "pip install gTTS"
      ],
      "metadata": {
        "colab": {
          "base_uri": "https://localhost:8080/"
        },
        "id": "Pz9yJmXmZuzX",
        "outputId": "3b98318b-3b21-4624-86ef-b01a245402d1"
      },
      "execution_count": null,
      "outputs": [
        {
          "output_type": "stream",
          "name": "stdout",
          "text": [
            "Looking in indexes: https://pypi.org/simple, https://us-python.pkg.dev/colab-wheels/public/simple/\n",
            "Requirement already satisfied: gTTS in /usr/local/lib/python3.7/dist-packages (2.3.0)\n",
            "Requirement already satisfied: click~=8.1.3 in /usr/local/lib/python3.7/dist-packages (from gTTS) (8.1.3)\n",
            "Requirement already satisfied: requests~=2.28.0 in /usr/local/lib/python3.7/dist-packages (from gTTS) (2.28.1)\n",
            "Requirement already satisfied: six~=1.16.0 in /usr/local/lib/python3.7/dist-packages (from gTTS) (1.16.0)\n",
            "Requirement already satisfied: importlib-metadata in /usr/local/lib/python3.7/dist-packages (from click~=8.1.3->gTTS) (4.13.0)\n",
            "Requirement already satisfied: urllib3<1.27,>=1.21.1 in /usr/local/lib/python3.7/dist-packages (from requests~=2.28.0->gTTS) (1.24.3)\n",
            "Requirement already satisfied: certifi>=2017.4.17 in /usr/local/lib/python3.7/dist-packages (from requests~=2.28.0->gTTS) (2022.9.24)\n",
            "Requirement already satisfied: charset-normalizer<3,>=2 in /usr/local/lib/python3.7/dist-packages (from requests~=2.28.0->gTTS) (2.1.1)\n",
            "Requirement already satisfied: idna<4,>=2.5 in /usr/local/lib/python3.7/dist-packages (from requests~=2.28.0->gTTS) (2.10)\n",
            "Requirement already satisfied: zipp>=0.5 in /usr/local/lib/python3.7/dist-packages (from importlib-metadata->click~=8.1.3->gTTS) (3.10.0)\n",
            "Requirement already satisfied: typing-extensions>=3.6.4 in /usr/local/lib/python3.7/dist-packages (from importlib-metadata->click~=8.1.3->gTTS) (4.1.1)\n"
          ]
        }
      ]
    },
    {
      "cell_type": "code",
      "source": [
        "from playsound import playsound\n",
        "import speech_recognition as speech_recognition\n",
        "from gtts import gTTS\n",
        "import os\n",
        "\n",
        "A = \"Tin tức thời tiết hôm nay 22.11.2022, theo dự báo từ Trung tâm khí tượng thủy văn quốc gia và Đài khí tượng thủy văn Trung ương (Bộ TN-MT), khu vực từ Hà Tĩnh đến Bình Thuận có mưa vừa, mưa to, có nơi mưa rất to và giông. Lượng mưa tính từ 07 ngày 21.11 đến 03 giờ ngày 22.11 có nơi trên 80 mm như: Bạch Mã (Thừa Thiên - Huế) 141,6 mm, Lộc Thủy (Thừa Thiên - Huế) 87,2 mm, Tam Kỳ (Quảng Nam) 96,6 mm…Dự báo, từ ngày 22.11 đến đêm 23.11, ở khu vực Nam Nghệ An, Hà Tĩnh, Quảng Bình có mưa vừa, mưa to, có nơi mưa rất to; khu vực từ Quảng Trị đến Bình Thuận mưa vừa, mưa to kéo dài đến hết ngày 22.11; từ đêm 22.11 mưa giảm; khu vực Tây nguyên và Nam bộ có mưa rào và rải rác có giông, cục bộ có mưa to.\"\n",
        "speak = gTTS(text=A, lang=\"vi\", slow=False)\n",
        "speak.save(\"test.mp3\")\n",
        "#playsound(\"test.mp3\")\n",
        "#os.remove(\"test.mp3\")\n",
        "print(A)"
      ],
      "metadata": {
        "colab": {
          "base_uri": "https://localhost:8080/"
        },
        "id": "tmjNwmAdZyxp",
        "outputId": "c7f75b12-cedb-45c2-bb0d-0a0781ad75f7"
      },
      "execution_count": null,
      "outputs": [
        {
          "output_type": "stream",
          "name": "stdout",
          "text": [
            "Tin tức thời tiết hôm nay 22.11.2022, theo dự báo từ Trung tâm khí tượng thủy văn quốc gia và Đài khí tượng thủy văn Trung ương (Bộ TN-MT), khu vực từ Hà Tĩnh đến Bình Thuận có mưa vừa, mưa to, có nơi mưa rất to và giông. Lượng mưa tính từ 07 ngày 21.11 đến 03 giờ ngày 22.11 có nơi trên 80 mm như: Bạch Mã (Thừa Thiên - Huế) 141,6 mm, Lộc Thủy (Thừa Thiên - Huế) 87,2 mm, Tam Kỳ (Quảng Nam) 96,6 mm…Dự báo, từ ngày 22.11 đến đêm 23.11, ở khu vực Nam Nghệ An, Hà Tĩnh, Quảng Bình có mưa vừa, mưa to, có nơi mưa rất to; khu vực từ Quảng Trị đến Bình Thuận mưa vừa, mưa to kéo dài đến hết ngày 22.11; từ đêm 22.11 mưa giảm; khu vực Tây nguyên và Nam bộ có mưa rào và rải rác có giông, cục bộ có mưa to.\n"
          ]
        }
      ]
    },
    {
      "cell_type": "code",
      "source": [
        "from playsound import playsound\n",
        "import speech_recognition as speech_recognition\n",
        "from gtts import gTTS\n",
        "import os\n",
        "\n",
        "A = \"number 1A she's arranging some flowers be she's moving a table see she's putting on a jacket D she's picking up a notebook\"\n",
        "speak = gTTS(text=A, lang=\"vi\", slow=False)\n",
        "speak.save(\"test1.mp3\")\n",
        "#playsound(\"test.mp3\")\n",
        "#os.remove(\"test.mp3\")\n",
        "print(A)"
      ],
      "metadata": {
        "colab": {
          "base_uri": "https://localhost:8080/"
        },
        "id": "vQrC3DMEbfK7",
        "outputId": "b157d2e7-ee54-401a-d391-e5a9b9b9bd77"
      },
      "execution_count": null,
      "outputs": [
        {
          "output_type": "stream",
          "name": "stdout",
          "text": [
            "number 1A she's arranging some flowers be she's moving a table see she's putting on a jacket D she's picking up a notebook\n"
          ]
        }
      ]
    },
    {
      "cell_type": "code",
      "source": [
        "pip install googletrans==3.1.0a0"
      ],
      "metadata": {
        "colab": {
          "base_uri": "https://localhost:8080/"
        },
        "id": "-FepueQae_Se",
        "outputId": "749cf5c9-62b0-4c26-cc26-223f56bba8d8"
      },
      "execution_count": null,
      "outputs": [
        {
          "output_type": "stream",
          "name": "stdout",
          "text": [
            "Looking in indexes: https://pypi.org/simple, https://us-python.pkg.dev/colab-wheels/public/simple/\n",
            "Collecting googletrans==3.1.0a0\n",
            "  Downloading googletrans-3.1.0a0.tar.gz (19 kB)\n",
            "Collecting httpx==0.13.3\n",
            "  Downloading httpx-0.13.3-py3-none-any.whl (55 kB)\n",
            "\u001b[K     |████████████████████████████████| 55 kB 2.4 MB/s \n",
            "\u001b[?25hCollecting sniffio\n",
            "  Downloading sniffio-1.3.0-py3-none-any.whl (10 kB)\n",
            "Collecting httpcore==0.9.*\n",
            "  Downloading httpcore-0.9.1-py3-none-any.whl (42 kB)\n",
            "\u001b[K     |████████████████████████████████| 42 kB 1.2 MB/s \n",
            "\u001b[?25hCollecting hstspreload\n",
            "  Downloading hstspreload-2022.11.1-py3-none-any.whl (1.4 MB)\n",
            "\u001b[K     |████████████████████████████████| 1.4 MB 9.8 MB/s \n",
            "\u001b[?25hRequirement already satisfied: chardet==3.* in /usr/local/lib/python3.7/dist-packages (from httpx==0.13.3->googletrans==3.1.0a0) (3.0.4)\n",
            "Collecting rfc3986<2,>=1.3\n",
            "  Downloading rfc3986-1.5.0-py2.py3-none-any.whl (31 kB)\n",
            "Requirement already satisfied: certifi in /usr/local/lib/python3.7/dist-packages (from httpx==0.13.3->googletrans==3.1.0a0) (2022.9.24)\n",
            "Requirement already satisfied: idna==2.* in /usr/local/lib/python3.7/dist-packages (from httpx==0.13.3->googletrans==3.1.0a0) (2.10)\n",
            "Collecting h11<0.10,>=0.8\n",
            "  Downloading h11-0.9.0-py2.py3-none-any.whl (53 kB)\n",
            "\u001b[K     |████████████████████████████████| 53 kB 2.0 MB/s \n",
            "\u001b[?25hCollecting h2==3.*\n",
            "  Downloading h2-3.2.0-py2.py3-none-any.whl (65 kB)\n",
            "\u001b[K     |████████████████████████████████| 65 kB 2.6 MB/s \n",
            "\u001b[?25hCollecting hpack<4,>=3.0\n",
            "  Downloading hpack-3.0.0-py2.py3-none-any.whl (38 kB)\n",
            "Collecting hyperframe<6,>=5.2.0\n",
            "  Downloading hyperframe-5.2.0-py2.py3-none-any.whl (12 kB)\n",
            "Building wheels for collected packages: googletrans\n",
            "  Building wheel for googletrans (setup.py) ... \u001b[?25l\u001b[?25hdone\n",
            "  Created wheel for googletrans: filename=googletrans-3.1.0a0-py3-none-any.whl size=16368 sha256=e5a38be946a29755434e4be3fa4c9e23af93affd2b130606cb3de1ff6d26323e\n",
            "  Stored in directory: /root/.cache/pip/wheels/0c/be/fe/93a6a40ffe386e16089e44dad9018ebab9dc4cb9eb7eab65ae\n",
            "Successfully built googletrans\n",
            "Installing collected packages: hyperframe, hpack, sniffio, h2, h11, rfc3986, httpcore, hstspreload, httpx, googletrans\n",
            "Successfully installed googletrans-3.1.0a0 h11-0.9.0 h2-3.2.0 hpack-3.0.0 hstspreload-2022.11.1 httpcore-0.9.1 httpx-0.13.3 hyperframe-5.2.0 rfc3986-1.5.0 sniffio-1.3.0\n"
          ]
        }
      ]
    },
    {
      "cell_type": "code",
      "source": [
        "from googletrans import Translator\n",
        "\n",
        "translator = Translator()\n",
        "translation = translator.translate(\"và tôi cũng yêu em\", dest=\"en\")\n",
        "print(translation.text)"
      ],
      "metadata": {
        "colab": {
          "base_uri": "https://localhost:8080/"
        },
        "id": "k0o7tvW_fWhI",
        "outputId": "53a05901-f9d9-48b3-cf23-5b8c0545da21"
      },
      "execution_count": null,
      "outputs": [
        {
          "output_type": "stream",
          "name": "stdout",
          "text": [
            "and I love you too\n"
          ]
        }
      ]
    },
    {
      "cell_type": "code",
      "source": [
        "import speech_recognition as sr\n",
        "\n",
        "filename=\"NTD.wav\"\n",
        "\n",
        "r = sr.Recognizer()\n",
        "with sr.AudioFile(filename) as source:\n",
        "  audio_data = r.record(source, offset=33, duration=120)\n",
        "text = r.recognize_google(audio_data, language=\"vi\")\n",
        "\n",
        "print(text)\n",
        "\n",
        "translation = translator.translate(text, dest=\"en\")\n",
        "\n",
        "speak = gTTS(text=translation.text, lang=\"en\", slow=False)\n",
        "speak.save(\"test3.mp3\")\n",
        "\n",
        "print (translation.text)"
      ],
      "metadata": {
        "colab": {
          "base_uri": "https://localhost:8080/"
        },
        "id": "0MqhEEhwgWzG",
        "outputId": "51640580-9740-4f5a-bc0d-2c9144f3df12"
      },
      "execution_count": null,
      "outputs": [
        {
          "output_type": "stream",
          "name": "stdout",
          "text": [
            "mình gặp lại nhau vẫn anh mắt ta nhìn nhau ngày nào vẫn có nói anh giờ ra sao vẫn câu nói giờ anh thế nào chỉ đường mình gặp lại nhau câu hỏi cuối em hỏi anh ngày nào anh vẫn còn yêu em trai không anh không trả lời Làm biếng chỉ biết nhìn em câu trả lời xa xăm bên đường làm chi em hỡi ơi anh là anh ngày nào yêu một người không dễ quên được đâu trên bầu trời còn mưa bất chợt yêu anh và niềm đau em nhận nào trời lạnh rồi tôi chờ em phải vì mình gặp lại nhau câu hỏi vui em hỏi anh ngày nào anh vẫn còn yêu em phải không anh không trả\n",
            "we meet again, we still see each other every day, we still talk about how you are now, how are you now, show me the way, we will see each other again the last question I asked you when do you still love your brother, you don't answer The answer is lazy, I can only look at you, the answer is far away on the side of the road, my dear, I love someone who is not easy to forget in the sky, and the rain suddenly falls in love with you and the pain I receive is cold. I wait for you because we meet again funny question you asked me when do you still love me, don't you answer\n"
          ]
        }
      ]
    },
    {
      "cell_type": "code",
      "source": [
        "#Phát hiện ngôn ngữ\n",
        "detection = translator.detect(\"một hai ba bốn năm sáu bảy tám chín mười 돌아가 너라는 집으로 지금 다시 웨이\")\n",
        "print(\"Language Code: \", detection.lang)\n",
        "print(\"Confidence: \", detection.confidence)"
      ],
      "metadata": {
        "colab": {
          "base_uri": "https://localhost:8080/"
        },
        "id": "_GBgrdukhSiJ",
        "outputId": "97718c8c-ded1-4b1b-a1d0-249e60081e76"
      },
      "execution_count": null,
      "outputs": [
        {
          "output_type": "stream",
          "name": "stdout",
          "text": [
            "Language Code:  ko\n",
            "Confidence:  1\n"
          ]
        }
      ]
    },
    {
      "cell_type": "code",
      "source": [],
      "metadata": {
        "id": "7wBSIwNzk3bM"
      },
      "execution_count": null,
      "outputs": []
    }
  ]
}